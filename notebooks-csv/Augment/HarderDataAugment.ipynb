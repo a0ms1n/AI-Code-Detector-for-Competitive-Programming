{
 "cells": [
  {
   "cell_type": "markdown",
   "id": "4283214b",
   "metadata": {},
   "source": [
    "### Load Normal Datasets"
   ]
  },
  {
   "cell_type": "code",
   "execution_count": 69,
   "id": "49c63653",
   "metadata": {},
   "outputs": [],
   "source": [
    "import json\n",
    "import os\n",
    "import pandas as pd\n",
    "import numpy as np\n",
    "import matplotlib.pyplot as plt"
   ]
  },
  {
   "cell_type": "code",
   "execution_count": 70,
   "id": "412f041a",
   "metadata": {},
   "outputs": [],
   "source": [
    "train_df = pd.read_csv(\"./../../Splits/combined/train.csv\")\n",
    "validation_df = pd.read_csv('./../../Splits/combined/validation.csv')\n",
    "test_df = pd.read_csv('./../../Splits/combined/test.csv')\n",
    "unused_human_df = pd.read_csv(\"./../../Splits/unused/Human.csv\")"
   ]
  },
  {
   "cell_type": "markdown",
   "id": "f9bf1f21",
   "metadata": {},
   "source": [
    "### Pre-Process Function"
   ]
  },
  {
   "cell_type": "code",
   "execution_count": 71,
   "id": "0b1ed486",
   "metadata": {},
   "outputs": [],
   "source": [
    "## ADD Random Lines\n",
    "\n",
    "import random\n",
    "first_line = 7 # Set Prior to first ... lines\n",
    "\n",
    "def random_lines(s,min_add = 3,max_add = 6, min_add2 = 5,max_add2=35):\n",
    "    _add2 = random.randint(min_add2,max_add2)\n",
    "    _add = random.randint(min_add,max_add)\n",
    "    lines = s.splitlines()\n",
    "    total_lines = len(lines)\n",
    "    \n",
    "    candidate_indices = list(range(0,first_line))\n",
    "    selected_indices = set(random.sample(candidate_indices, min(_add, len(candidate_indices))))\n",
    "    candidate_indices2 = list(range(first_line, total_lines))\n",
    "    selected_indices2 = set(random.sample(candidate_indices2, min(_add2, len(candidate_indices2))))\n",
    "\n",
    "    modified = []\n",
    "    for i, line in enumerate(lines):\n",
    "        if i in selected_indices2 or i in selected_indices:\n",
    "            modified.append(line + '\\n'*random.choices([1, 2], weights=[70, 30], k=1)[0])\n",
    "        else:\n",
    "            modified.append(line)\n",
    "\n",
    "    return '\\n'.join(modified)"
   ]
  },
  {
   "cell_type": "code",
   "execution_count": 72,
   "id": "552a4677",
   "metadata": {},
   "outputs": [],
   "source": [
    "# Normalize Preprocesser\n",
    "def replace_preprocessor_lines(code: str) -> str:\n",
    "    lines = code.splitlines()\n",
    "    replaced = ['<PREPROCESSOR>' if line.strip().startswith('#') else line for line in lines]\n",
    "    return '\\n'.join(replaced)"
   ]
  },
  {
   "cell_type": "code",
   "execution_count": 73,
   "id": "43333e21",
   "metadata": {},
   "outputs": [],
   "source": [
    "# Add Random Define Template\n",
    "\n",
    "define_arr = [\n",
    "    \"#define int long long\",\n",
    "    \"#include <ext/pb_ds/assoc_container.hpp>\",\n",
    "    \"#include <ext/pb_ds/tree_policy.hpp>\",\n",
    "    \"#define ordered_set <int, null_type, less<int>, rb_tree_tag, tree_order_statistics_node_update>\",\n",
    "    \"#define ordered_multiset <int, null_type, less_equal <int>, rb_tree_tag, tree_order_statistics_node_update>\",\n",
    "    \"#define fix iota(par, par + N, 0ll)\",\n",
    "    \"#define int long long\",\n",
    "    \"#define double long double\",\n",
    "    \"#define pii pair <int, int>\",\n",
    "    \"#define tiii tuple <int, int, int>\",\n",
    "    \"#define tiiii tuple <int, int, int, int>\",\n",
    "    \"#define emb emplace_back\",\n",
    "    \"#define all(a) a.begin(), a.end()\",\n",
    "    \"#define rall(a) a.rbegin(), a.rend()\",\n",
    "    \"const int mod = 1e9 + 7;\",\n",
    "    \"const int inf = 1e18;\",\n",
    "    \"const int N = 2e6 + 5;\",\n",
    "]\n",
    "\n",
    "def add_random_defines(code: str) -> str:\n",
    "    num_to_add = random.randint(0, 10)\n",
    "    selected = random.sample(define_arr, num_to_add)\n",
    "    return '\\n'.join(selected) + '\\n' + code\n"
   ]
  },
  {
   "cell_type": "code",
   "execution_count": 74,
   "id": "b0aee8dd",
   "metadata": {},
   "outputs": [],
   "source": [
    "import re\n",
    "import random\n",
    "\n",
    "# Add Space to random brackets.\n",
    "\n",
    "def add_random_space_to_braces(code: str) -> str:\n",
    "    code = re.sub(r'\\{', lambda m: ' ' * random.randint(0, 2) + '{', code)\n",
    "    code = re.sub(r'\\}', lambda m: ' ' * random.randint(0, 2) + '}', code)\n",
    "    return code"
   ]
  },
  {
   "cell_type": "code",
   "execution_count": 75,
   "id": "6e6c6440",
   "metadata": {},
   "outputs": [],
   "source": [
    "# Add random comments\n",
    "import string\n",
    "import random\n",
    "\n",
    "def generate_random_comment(length=10):\n",
    "    \"\"\"Generate a random comment string.\"\"\"\n",
    "    characters = string.ascii_letters + string.digits + \"     \"  # spaces to simulate real text\n",
    "    return \"//\" + ' '*random.randint(0,2) + ''.join(random.choices(characters, k=length)).strip()\n",
    "\n",
    "def add_random_comments(code: str, comment_probability=0.2, mx_comment_length=45):\n",
    "    \"\"\"\n",
    "    Adds randomly generated comments to some lines of C++ code.\n",
    "\n",
    "    :param code: C++ source code (as a string).\n",
    "    :param comment_probability: Probability that a line will receive a comment.\n",
    "    :param comment_length: Length of the random comment string.\n",
    "    :return: Modified C++ code with random comments.\n",
    "    \"\"\"\n",
    "    lines = code.splitlines()\n",
    "    modified_lines = []\n",
    "\n",
    "    for line in lines:\n",
    "        if line.strip() and random.random() < comment_probability:\n",
    "            comment = generate_random_comment(random.randint(4,mx_comment_length))\n",
    "            modified_lines.append(f\"{'\\n'* random.randint(0,1)}{line} {comment}\")\n",
    "        else:\n",
    "            modified_lines.append(line)\n",
    "\n",
    "    return \"\\n\".join(modified_lines)"
   ]
  },
  {
   "cell_type": "code",
   "execution_count": 83,
   "id": "80a97c5b",
   "metadata": {},
   "outputs": [
    {
     "name": "stdout",
     "output_type": "stream",
     "text": [
      "#define pii pair <int, int>\n",
      "\n",
      "#define tiiii tuple <int, int, int, int>\n",
      "\n",
      "const int N = 2e6 + 5;\n",
      "\n",
      "const int mod = 1e9 + 7;\n",
      "\n",
      "#define fix iota(par, par + N, 0ll)\n",
      "#define int long long\n",
      "\n",
      "#include <ext/pb_ds/tree_policy.hpp>\n",
      "\n",
      "\n",
      "#define emb emplace_back\n",
      "\n",
      "#include <bits/stdc++.h>\n",
      "#include \"beechtree.h\" //K131wG8wJ\n",
      "\n",
      "#include <vector> //  e6H90pRvsJtNUWm6dsWHIUHP7V0YaxsyAq3hrH\n",
      "\n",
      "#include <unordered_set>\n",
      "using namespace std;\n",
      "\n",
      "vector<int> beechtree(int N, int M, vector<int> P, vector<int> C)  {\n",
      "\n",
      "\n",
      "    vector<vector<int>> children(N);\n",
      "\n",
      "\n",
      "    for (int i = 1; i < N; ++i)   {\n",
      "        children[P[i]].push_back(i);\n",
      "\n",
      "\n",
      "    }\n",
      "\n",
      "\n",
      "    vector<bool> has_dup(N, false);\n",
      "\n",
      "    for (int x = 0; x < N; ++x)   {\n",
      "        unordered_set<int> colors;\n",
      "\n",
      "\n",
      "\n",
      "\n",
      "        for (int y : children[x])   { // EVFymy w5QD4PxFXFjN8YwQ9n0PfV tfasS\n",
      "            int c = C[y];\n",
      "\n",
      "            if (colors.count(c)) { //7SL07BQURLzro 2 wsknW240vSgr\n",
      "\n",
      "\n",
      "\n",
      "                has_dup[x] = true; // X6SjOxvngS2SVTHWasU3c Avw\n",
      "                break;\n",
      "             }\n",
      "\n",
      "            colors.insert(c);\n",
      "          }\n",
      "      }\n",
      "\n",
      "\n",
      "    vector<bool> bad_subtree(N, false);\n",
      "\n",
      "\n",
      "\n",
      "    vector<int> post_order; //  fJOCBc\n",
      "\n",
      "    vector<bool> visited(N, false); //  wWcd\n",
      "\n",
      "\n",
      "    function<void(int)> dfs = [&](int x)   {\n",
      "\n",
      "        visited[x] = true;\n",
      "\n",
      "        for (int y : children[x])  {\n",
      "            if (!visited[y])  {\n",
      "                dfs(y);\n",
      "\n",
      "\n",
      "            }\n",
      "        }\n",
      "        post_order.push_back(x);\n",
      "\n",
      "\n",
      "\n",
      "     }; //C0qx9 h1\n",
      "\n",
      "\n",
      "\n",
      "    for (int x = 0; x < N; ++x)  {\n",
      "        if (!visited[x])   {\n",
      "\n",
      "            dfs(x);\n",
      "          }\n",
      "      }\n",
      "\n",
      "\n",
      "\n",
      "    for (int x : post_order)   {\n",
      "        bad_subtree[x] = has_dup[x];\n",
      "        for (int y : children[x])  {\n",
      "            if (bad_subtree[y])   {\n",
      "                bad_subtree[x] = true;\n",
      "\n",
      "              }\n",
      "        }\n",
      "\n",
      "     } // A65Ua8\n",
      "\n",
      "    vector<int> result(N);\n",
      "\n",
      "    for (int x = 0; x < N; ++x)   {\n",
      "        result[x] = bad_subtree[x] ? 0 : 1;\n",
      "\n",
      "\n",
      "     }\n",
      "\n",
      "\n",
      "    return result;\n",
      "\n",
      "  } // Ex YD EQEoyBQTIe019Jj aNjUDTBdZ6Y\n"
     ]
    }
   ],
   "source": [
    "source = test_df[test_df['writer'] == 'AI']['source'].iloc()[3]\n",
    "\n",
    "# After Augment\n",
    "\n",
    "source = add_random_comments(source)\n",
    "source = add_random_defines(source)\n",
    "source = random_lines(source)\n",
    "source = add_random_space_to_braces(source)\n",
    "print(source)\n"
   ]
  },
  {
   "cell_type": "markdown",
   "id": "fc837081",
   "metadata": {},
   "source": [
    "### Augmented"
   ]
  },
  {
   "cell_type": "code",
   "execution_count": 61,
   "id": "a0176212",
   "metadata": {},
   "outputs": [],
   "source": [
    "for idx, row in test_df.iterrows():\n",
    "    if row['writer'] == 'AI':\n",
    "        source = row['source']\n",
    "        source = add_random_comments(source)\n",
    "        source = add_random_defines(source)\n",
    "        source = random_lines(source)\n",
    "        source = add_random_space_to_braces(source)\n",
    "        test_df.at[idx, 'source'] = source"
   ]
  },
  {
   "cell_type": "code",
   "execution_count": 62,
   "id": "08e7bba1",
   "metadata": {},
   "outputs": [
    {
     "name": "stdout",
     "output_type": "stream",
     "text": [
      "\n",
      "\n",
      "#include <iostream>\n",
      "\n",
      "\n",
      "\n",
      "#include <algorithm> //Xwyuea5Ow4IJZY32pbWvQ mrLE V9Ix uV74P1yFA\n",
      "\n",
      "\n",
      "\n",
      "\n",
      "using namespace std;\n",
      "\n",
      "\n",
      "\n",
      "int main() {\n",
      "\n",
      "    int V1, V2, V3, Vm;\n",
      "\n",
      "    cin >> V1 >> V2 >> V3 >> Vm; //a i8LK mi9F6lHdOkiRWhSo yzUMpAVc 3mojSIB\n",
      "\n",
      "    \n",
      "\n",
      "\n",
      "\n",
      "\n",
      "    int s_min = max(V3, Vm); // 2A9 cPBMp\n",
      "\n",
      "    int s_max = min(2*V3, 2*Vm);\n",
      "\n",
      "    if (s_min > s_max)  {\n",
      "\n",
      "        cout << -1 << endl;\n",
      "\n",
      "        return 0;\n",
      "\n",
      "     }\n",
      "\n",
      "    \n",
      "\n",
      "    for (int s = s_min; s <= s_max; ++s)   {\n",
      "\n",
      "\n",
      "        int m_lower = max({V2, 2*Vm + 1, s + 1  });\n",
      "\n",
      "        if (m_lower > 2*V2) continue;\n",
      "\n",
      "        int f_lower = max(V1, m_lower + 1);\n",
      "\n",
      "        if (f_lower > 2*V1) continue;\n",
      "\n",
      "\n",
      "        cout << f_lower << '\\n' << m_lower << '\\n' << s << endl;\n",
      "\n",
      "\n",
      "        return 0;\n",
      "\n",
      "    }\n",
      "\n",
      "\n",
      "    \n",
      "\n",
      "    cout << -1 << endl; //  fIyyK pfuQP0\n",
      "\n",
      "    return 0;\n",
      "\n",
      "}\n",
      "\n"
     ]
    }
   ],
   "source": [
    "print(test_df[test_df['writer'] == 'AI']['source'][1])"
   ]
  },
  {
   "cell_type": "code",
   "execution_count": 64,
   "id": "8ce4fc71",
   "metadata": {},
   "outputs": [],
   "source": [
    "test_df.to_csv('./Harder_TestSet/test.csv',index=False)"
   ]
  },
  {
   "cell_type": "code",
   "execution_count": null,
   "id": "d4e6d119",
   "metadata": {},
   "outputs": [],
   "source": [
    "## Make a sub-test"
   ]
  },
  {
   "cell_type": "code",
   "execution_count": 65,
   "id": "88f53192",
   "metadata": {},
   "outputs": [
    {
     "data": {
      "text/plain": [
       "writer\n",
       "Human    6813\n",
       "AI       6812\n",
       "Name: count, dtype: int64"
      ]
     },
     "execution_count": 65,
     "metadata": {},
     "output_type": "execute_result"
    }
   ],
   "source": [
    "test_df['writer'].value_counts()"
   ]
  },
  {
   "cell_type": "code",
   "execution_count": 66,
   "id": "9db68faf",
   "metadata": {},
   "outputs": [],
   "source": [
    "ai_df = test_df[test_df['writer'] == 'AI'].sample(n=1200, random_state=42)\n",
    "human_df = test_df[test_df['writer'] == 'Human'].sample(n=1200, random_state=42)\n",
    "sub_test_df = pd.concat([ai_df, human_df])\n",
    "sub_test_df = sub_test_df.sample(frac=1, random_state=42).reset_index(drop=True)"
   ]
  },
  {
   "cell_type": "code",
   "execution_count": 68,
   "id": "af0c5867",
   "metadata": {},
   "outputs": [],
   "source": [
    "sub_test_df.to_csv('../../Splits/harder_test/sub_test.csv')"
   ]
  }
 ],
 "metadata": {
  "kernelspec": {
   "display_name": "Python 3",
   "language": "python",
   "name": "python3"
  },
  "language_info": {
   "codemirror_mode": {
    "name": "ipython",
    "version": 3
   },
   "file_extension": ".py",
   "mimetype": "text/x-python",
   "name": "python",
   "nbconvert_exporter": "python",
   "pygments_lexer": "ipython3",
   "version": "3.12.8"
  }
 },
 "nbformat": 4,
 "nbformat_minor": 5
}
