{
  "cells": [
    {
      "cell_type": "code",
      "execution_count": 1,
      "metadata": {
        "id": "sPhiAUUBxhW8"
      },
      "outputs": [],
      "source": [
        "from pathlib import Path\n",
        "import json\n",
        "import os\n",
        "import pandas as pd\n",
        "import numpy as np\n",
        "import matplotlib.pyplot as plt\n",
        "import requests"
      ]
    },
    {
      "cell_type": "code",
      "execution_count": 178,
      "metadata": {
        "colab": {
          "base_uri": "https://localhost:8080/"
        },
        "id": "lFyxGi9bwxtZ",
        "outputId": "a71890b9-83f0-4ad0-db7a-8b5cb0896b38"
      },
      "outputs": [
        {
          "name": "stdout",
          "output_type": "stream",
          "text": [
            "The product of 8 and 8 is 64.\n"
          ]
        }
      ],
      "source": [
        "import ollama\n",
        "\n",
        "response = ollama.generate(\n",
        "    model=\"codeqwen:7b-custom\",\n",
        "    prompt=\"What is 8*8\"\n",
        ")\n",
        "print(response[\"response\"])\n"
      ]
    },
    {
      "cell_type": "code",
      "execution_count": null,
      "metadata": {
        "colab": {
          "base_uri": "https://localhost:8080/",
          "height": 808
        },
        "id": "H-1g_Rjew5Da",
        "outputId": "feb440e6-1e51-4088-8c85-f1e8967f54a6"
      },
      "outputs": [
        {
          "data": {
            "text/html": [
              "<div>\n",
              "<style scoped>\n",
              "    .dataframe tbody tr th:only-of-type {\n",
              "        vertical-align: middle;\n",
              "    }\n",
              "\n",
              "    .dataframe tbody tr th {\n",
              "        vertical-align: top;\n",
              "    }\n",
              "\n",
              "    .dataframe thead th {\n",
              "        text-align: right;\n",
              "    }\n",
              "</style>\n",
              "<table border=\"1\" class=\"dataframe\">\n",
              "  <thead>\n",
              "    <tr style=\"text-align: right;\">\n",
              "      <th></th>\n",
              "      <th>Unnamed: 0.1</th>\n",
              "      <th>writer</th>\n",
              "      <th>problem_id</th>\n",
              "      <th>submission_id</th>\n",
              "      <th>website</th>\n",
              "      <th>source</th>\n",
              "      <th>Unnamed: 0</th>\n",
              "    </tr>\n",
              "  </thead>\n",
              "  <tbody>\n",
              "    <tr>\n",
              "      <th>0</th>\n",
              "      <td>0</td>\n",
              "      <td>AI</td>\n",
              "      <td>164A</td>\n",
              "      <td>NaN</td>\n",
              "      <td>https://codeforces.com</td>\n",
              "      <td>#include &lt;bits/stdc++.h&gt;\\nusing namespace std;...</td>\n",
              "      <td>NaN</td>\n",
              "    </tr>\n",
              "    <tr>\n",
              "      <th>1</th>\n",
              "      <td>1</td>\n",
              "      <td>AI</td>\n",
              "      <td>NaN</td>\n",
              "      <td>NaN</td>\n",
              "      <td>https://codeforces.com</td>\n",
              "      <td>#include &lt;bits/stdc++.h&gt;\\nusing namespace std;...</td>\n",
              "      <td>NaN</td>\n",
              "    </tr>\n",
              "    <tr>\n",
              "      <th>2</th>\n",
              "      <td>2</td>\n",
              "      <td>AI</td>\n",
              "      <td>o61_may08_estate</td>\n",
              "      <td>NaN</td>\n",
              "      <td>https://programming.in.th</td>\n",
              "      <td>#include &lt;bits/stdc++.h&gt;\\nusing namespace std;...</td>\n",
              "      <td>1843.0</td>\n",
              "    </tr>\n",
              "    <tr>\n",
              "      <th>3</th>\n",
              "      <td>3</td>\n",
              "      <td>human</td>\n",
              "      <td>NaN</td>\n",
              "      <td>13646458.0</td>\n",
              "      <td>https://codeforces.com</td>\n",
              "      <td>//Template\\n\\n// By Anudeep :)\\n//Includes\\n#i...</td>\n",
              "      <td>NaN</td>\n",
              "    </tr>\n",
              "    <tr>\n",
              "      <th>4</th>\n",
              "      <td>4</td>\n",
              "      <td>AI</td>\n",
              "      <td>1032</td>\n",
              "      <td>NaN</td>\n",
              "      <td>https://programming.in.th</td>\n",
              "      <td>#include &lt;bits/stdc++.h&gt;\\nusing namespace std;...</td>\n",
              "      <td>998.0</td>\n",
              "    </tr>\n",
              "    <tr>\n",
              "      <th>...</th>\n",
              "      <td>...</td>\n",
              "      <td>...</td>\n",
              "      <td>...</td>\n",
              "      <td>...</td>\n",
              "      <td>...</td>\n",
              "      <td>...</td>\n",
              "      <td>...</td>\n",
              "    </tr>\n",
              "    <tr>\n",
              "      <th>2995</th>\n",
              "      <td>2995</td>\n",
              "      <td>human</td>\n",
              "      <td>1000</td>\n",
              "      <td>306681.0</td>\n",
              "      <td>https://programming.in.th</td>\n",
              "      <td>#include &lt;bits/stdc++.h&gt;\\nusing namespace std;...</td>\n",
              "      <td>NaN</td>\n",
              "    </tr>\n",
              "    <tr>\n",
              "      <th>2996</th>\n",
              "      <td>2996</td>\n",
              "      <td>human</td>\n",
              "      <td>1055</td>\n",
              "      <td>310229.0</td>\n",
              "      <td>https://programming.in.th</td>\n",
              "      <td>#include &lt;bits/stdc++.h&gt;\\nusing namespace std;...</td>\n",
              "      <td>NaN</td>\n",
              "    </tr>\n",
              "    <tr>\n",
              "      <th>2997</th>\n",
              "      <td>2997</td>\n",
              "      <td>Human</td>\n",
              "      <td>NaN</td>\n",
              "      <td>NaN</td>\n",
              "      <td>https://firefly.gchan.moe</td>\n",
              "      <td>#include &lt;bits/stdc++.h&gt;\\n\\nusing namespace st...</td>\n",
              "      <td>NaN</td>\n",
              "    </tr>\n",
              "    <tr>\n",
              "      <th>2998</th>\n",
              "      <td>2998</td>\n",
              "      <td>AI</td>\n",
              "      <td>888F</td>\n",
              "      <td>NaN</td>\n",
              "      <td>https://codeforces.com</td>\n",
              "      <td>#include &lt;bits/stdc++.h&gt;\\nusing namespace std;...</td>\n",
              "      <td>NaN</td>\n",
              "    </tr>\n",
              "    <tr>\n",
              "      <th>2999</th>\n",
              "      <td>2999</td>\n",
              "      <td>AI</td>\n",
              "      <td>NaN</td>\n",
              "      <td>NaN</td>\n",
              "      <td>https://codeforces.com</td>\n",
              "      <td>#include &lt;iostream&gt;\\n#include &lt;vector&gt;\\nusing ...</td>\n",
              "      <td>NaN</td>\n",
              "    </tr>\n",
              "  </tbody>\n",
              "</table>\n",
              "<p>3000 rows × 7 columns</p>\n",
              "</div>"
            ],
            "text/plain": [
              "      Unnamed: 0.1 writer        problem_id  submission_id  \\\n",
              "0                0     AI              164A            NaN   \n",
              "1                1     AI               NaN            NaN   \n",
              "2                2     AI  o61_may08_estate            NaN   \n",
              "3                3  human               NaN     13646458.0   \n",
              "4                4     AI              1032            NaN   \n",
              "...            ...    ...               ...            ...   \n",
              "2995          2995  human              1000       306681.0   \n",
              "2996          2996  human              1055       310229.0   \n",
              "2997          2997  Human               NaN            NaN   \n",
              "2998          2998     AI              888F            NaN   \n",
              "2999          2999     AI               NaN            NaN   \n",
              "\n",
              "                        website  \\\n",
              "0        https://codeforces.com   \n",
              "1        https://codeforces.com   \n",
              "2     https://programming.in.th   \n",
              "3        https://codeforces.com   \n",
              "4     https://programming.in.th   \n",
              "...                         ...   \n",
              "2995  https://programming.in.th   \n",
              "2996  https://programming.in.th   \n",
              "2997  https://firefly.gchan.moe   \n",
              "2998     https://codeforces.com   \n",
              "2999     https://codeforces.com   \n",
              "\n",
              "                                                 source  Unnamed: 0  \n",
              "0     #include <bits/stdc++.h>\\nusing namespace std;...         NaN  \n",
              "1     #include <bits/stdc++.h>\\nusing namespace std;...         NaN  \n",
              "2     #include <bits/stdc++.h>\\nusing namespace std;...      1843.0  \n",
              "3     //Template\\n\\n// By Anudeep :)\\n//Includes\\n#i...         NaN  \n",
              "4     #include <bits/stdc++.h>\\nusing namespace std;...       998.0  \n",
              "...                                                 ...         ...  \n",
              "2995  #include <bits/stdc++.h>\\nusing namespace std;...         NaN  \n",
              "2996  #include <bits/stdc++.h>\\nusing namespace std;...         NaN  \n",
              "2997  #include <bits/stdc++.h>\\n\\nusing namespace st...         NaN  \n",
              "2998  #include <bits/stdc++.h>\\nusing namespace std;...         NaN  \n",
              "2999  #include <iostream>\\n#include <vector>\\nusing ...         NaN  \n",
              "\n",
              "[3000 rows x 7 columns]"
            ]
          },
          "execution_count": 6,
          "metadata": {},
          "output_type": "execute_result"
        }
      ],
      "source": [
        "test_df = pd.read_csv('../Splits/combined/sub_test.csv')\n",
        "# test_df = pd.read_csv('../Splits/harder_test/sub_test.csv')\n",
        "test_df"
      ]
    },
    {
      "cell_type": "code",
      "execution_count": 7,
      "metadata": {
        "colab": {
          "base_uri": "https://localhost:8080/",
          "height": 175
        },
        "id": "94HWMSH6x55C",
        "outputId": "8a4f3d45-b85b-432a-fa06-cf6dd29e63b7"
      },
      "outputs": [
        {
          "data": {
            "text/plain": [
              "'You are the best C++ code detector. Your job is to determine whether the competitive programming source code is AI-generated or written by a human.\\n\\n### Steps:\\n1. **Read the source code carefully** to understand what does the code doing.\\n2. **Identify the patterns of code** and analyze whter it\\'s AI-generated or not, like checking unnesscary space, variables, new lines, or comments.\\n3. **Determine if it\\'s Human or AI** from the data you have.\\n4. **From the reason** Answer if it AI or Human.\\n\\nYou must respond in JSON format, like this:\\n```json\\n{   \\n    \"reason\": \"Why this code is human-written or AI-generated\"\\n    \"answer\": \"human\" / \"AI\",  \\n}\\n```\\n- You must not provide any other text, except JSON.\\n- In the reason part, don\\'t use symbol like \" , ` , \\\\n, use only normal character.\\nHere is C++ source code:\\n'"
            ]
          },
          "execution_count": 7,
          "metadata": {},
          "output_type": "execute_result"
        }
      ],
      "source": [
        "# Prompt URL\n",
        "prompt_path = \"./Prompts/PromptV1.txt\"\n",
        "\n",
        "with open(prompt_path,'r') as _prompt:\n",
        "  prompt = _prompt.read()\n",
        "prompt"
      ]
    },
    {
      "cell_type": "code",
      "execution_count": 181,
      "metadata": {
        "colab": {
          "base_uri": "https://localhost:8080/"
        },
        "id": "ndyK5DNoysvX",
        "outputId": "3c5f986b-90cf-4dd0-c8b8-0a149a4bd0e4"
      },
      "outputs": [
        {
          "data": {
            "text/plain": [
              "1856"
            ]
          },
          "execution_count": 181,
          "metadata": {},
          "output_type": "execute_result"
        }
      ],
      "source": [
        "len(prompt_path + test_df['source'][4])"
      ]
    },
    {
      "cell_type": "code",
      "execution_count": 182,
      "metadata": {
        "id": "i97WgZsNx9Kg"
      },
      "outputs": [],
      "source": [
        "response = ollama.chat(\n",
        "    model='codeqwen:7b-custom',\n",
        "    messages=[\n",
        "        {'role': 'system', 'content': prompt},\n",
        "        {'role': 'user', 'content': test_df['source'][5]},\n",
        "        ]\n",
        "    )"
      ]
    },
    {
      "cell_type": "code",
      "execution_count": 183,
      "metadata": {
        "colab": {
          "base_uri": "https://localhost:8080/",
          "height": 70
        },
        "id": "L4jiS9c4yvSG",
        "outputId": "b0717ad8-b17c-40ec-947e-f5466fdaccc6"
      },
      "outputs": [
        {
          "data": {
            "application/vnd.google.colaboratory.intrinsic+json": {
              "type": "string"
            },
            "text/plain": [
              "'{\"reason\": \"The code is a C++ program that plays the game Othello (Reversi). It uses functions to place pieces, check if a move can be made by a certain color, and determine if the board is full. The code contains nested loops for checking all possible moves for each color.\",\"answer\": \"human\"}'"
            ]
          },
          "execution_count": 183,
          "metadata": {},
          "output_type": "execute_result"
        }
      ],
      "source": [
        "response.message.content"
      ]
    },
    {
      "cell_type": "code",
      "execution_count": 184,
      "metadata": {
        "id": "HcfS0DuRzHiP"
      },
      "outputs": [],
      "source": [
        "def GenerateResult(source: str):\n",
        "  try:\n",
        "    response = ollama.chat(\n",
        "    model='codeqwen:7b-custom',\n",
        "    messages=[\n",
        "        {'role': 'system', 'content': prompt},\n",
        "        {'role': 'user', 'content': source},\n",
        "        ]\n",
        "    )\n",
        "    return response.message.content.lstrip('```json\\n').rstrip('\\n```')\n",
        "  except Exception as e:\n",
        "    print(f\"ERROR : {e}\")\n",
        "    return None"
      ]
    },
    {
      "cell_type": "code",
      "execution_count": 2,
      "metadata": {
        "id": "scX3JBmOeUbP"
      },
      "outputs": [],
      "source": [
        "BACKUP_PATH = './Backups/Result-CodeQwen7b.csv'\n",
        "\n",
        "def save_responses(res):\n",
        "    df = pd.DataFrame(res, columns=['back_up'])\n",
        "    df.to_csv(BACKUP_PATH,index=False)"
      ]
    },
    {
      "cell_type": "code",
      "execution_count": 3,
      "metadata": {
        "id": "wdRgmliQeiUK"
      },
      "outputs": [],
      "source": [
        "try:\n",
        "    saved_df = pd.read_csv(BACKUP_PATH)\n",
        "    answer = saved_df['back_up'].to_list()\n",
        "except:\n",
        "    answer = []"
      ]
    },
    {
      "cell_type": "code",
      "execution_count": 4,
      "metadata": {},
      "outputs": [
        {
          "data": {
            "text/html": [
              "<div>\n",
              "<style scoped>\n",
              "    .dataframe tbody tr th:only-of-type {\n",
              "        vertical-align: middle;\n",
              "    }\n",
              "\n",
              "    .dataframe tbody tr th {\n",
              "        vertical-align: top;\n",
              "    }\n",
              "\n",
              "    .dataframe thead th {\n",
              "        text-align: right;\n",
              "    }\n",
              "</style>\n",
              "<table border=\"1\" class=\"dataframe\">\n",
              "  <thead>\n",
              "    <tr style=\"text-align: right;\">\n",
              "      <th></th>\n",
              "      <th>back_up</th>\n",
              "    </tr>\n",
              "  </thead>\n",
              "  <tbody>\n",
              "    <tr>\n",
              "      <th>0</th>\n",
              "      <td>{\"reason\": \"This code uses the Breadth-First S...</td>\n",
              "    </tr>\n",
              "    <tr>\n",
              "      <th>1</th>\n",
              "      <td>{\"reason\": \"This code seems to be a modified v...</td>\n",
              "    </tr>\n",
              "    <tr>\n",
              "      <th>2</th>\n",
              "      <td>{\"reason\": \"The code defines a function dfs th...</td>\n",
              "    </tr>\n",
              "    <tr>\n",
              "      <th>3</th>\n",
              "      <td>{\"reason\": \"The code has a structure that invo...</td>\n",
              "    </tr>\n",
              "    <tr>\n",
              "      <th>4</th>\n",
              "      <td>{\"reason\": \"The code is a competitive programm...</td>\n",
              "    </tr>\n",
              "    <tr>\n",
              "      <th>...</th>\n",
              "      <td>...</td>\n",
              "    </tr>\n",
              "    <tr>\n",
              "      <th>2995</th>\n",
              "      <td>{\"reason\": \"The code uses short variables and ...</td>\n",
              "    </tr>\n",
              "    <tr>\n",
              "      <th>2996</th>\n",
              "      <td>{\"reason\": \"This code seems to be an implement...</td>\n",
              "    </tr>\n",
              "    <tr>\n",
              "      <th>2997</th>\n",
              "      <td>{\"reason\": \"This code provides a helper functi...</td>\n",
              "    </tr>\n",
              "    <tr>\n",
              "      <th>2998</th>\n",
              "      <td>{\"reason\": \"This code is AI generated as it co...</td>\n",
              "    </tr>\n",
              "    <tr>\n",
              "      <th>2999</th>\n",
              "      <td>{\"reason\": \"This code appears to be a traditio...</td>\n",
              "    </tr>\n",
              "  </tbody>\n",
              "</table>\n",
              "<p>3000 rows × 1 columns</p>\n",
              "</div>"
            ],
            "text/plain": [
              "                                                back_up\n",
              "0     {\"reason\": \"This code uses the Breadth-First S...\n",
              "1     {\"reason\": \"This code seems to be a modified v...\n",
              "2     {\"reason\": \"The code defines a function dfs th...\n",
              "3     {\"reason\": \"The code has a structure that invo...\n",
              "4     {\"reason\": \"The code is a competitive programm...\n",
              "...                                                 ...\n",
              "2995  {\"reason\": \"The code uses short variables and ...\n",
              "2996  {\"reason\": \"This code seems to be an implement...\n",
              "2997  {\"reason\": \"This code provides a helper functi...\n",
              "2998  {\"reason\": \"This code is AI generated as it co...\n",
              "2999  {\"reason\": \"This code appears to be a traditio...\n",
              "\n",
              "[3000 rows x 1 columns]"
            ]
          },
          "execution_count": 4,
          "metadata": {},
          "output_type": "execute_result"
        }
      ],
      "source": [
        "saved_df"
      ]
    },
    {
      "cell_type": "code",
      "execution_count": 10,
      "metadata": {
        "colab": {
          "base_uri": "https://localhost:8080/"
        },
        "id": "CliD9h2aelD-",
        "outputId": "8c779841-f274-4165-cf2a-a4f33b7b47db"
      },
      "outputs": [
        {
          "data": {
            "text/plain": [
              "2950"
            ]
          },
          "execution_count": 10,
          "metadata": {},
          "output_type": "execute_result"
        }
      ],
      "source": [
        "len(answer)"
      ]
    },
    {
      "cell_type": "code",
      "execution_count": 188,
      "metadata": {
        "colab": {
          "base_uri": "https://localhost:8080/"
        },
        "id": "y9QpvXVUzxq4",
        "outputId": "daaf20f9-2250-4fb9-d5f8-8a778ef4845b"
      },
      "outputs": [
        {
          "name": "stdout",
          "output_type": "stream",
          "text": [
            "ASKED : 2999\n",
            "{'reason': \"The code contains loops and conditional statements to generate all possible triplets of consecutive grid cells. It checks for three consecutive 'x' characters in each direction (horizontal, vertical, main diagonal, and anti-diagonal) to determine if a player can win by placing a single 'x'. The variables used are short and simple, with meaningful names indicating their purpose.\", 'answer': 'human'}\n"
          ]
        }
      ],
      "source": [
        "import pathlib\n",
        "import httpx\n",
        "import time\n",
        "from IPython.display import clear_output\n",
        "err_logs = []\n",
        "answer = []\n",
        "\n",
        "err_cnt = 0\n",
        "\n",
        "for index, row in test_df[len(answer):].iterrows():\n",
        "  while True:\n",
        "    if index%50 == 0 and index != 0:\n",
        "      save_responses(answer)\n",
        "    if err_cnt >= 3:\n",
        "      answer.append('{\"reason\": \"ERROR\",\"answer\": \"ERROR\"}')\n",
        "      err_cnt =0\n",
        "      break\n",
        "    try:\n",
        "      response = GenerateResult(row['source'])\n",
        "      clear_output()\n",
        "      print(f\"ASKED : {index}\")\n",
        "      print(json.loads(response))\n",
        "      err_cnt = 0\n",
        "      answer.append(response)\n",
        "      break\n",
        "    except Exception as e:\n",
        "      err_cnt += 1\n",
        "      err_logs.append((index,e))\n",
        "      clear_output()\n",
        "      save_responses(answer)\n",
        "      print(response)\n",
        "      print(f\"ERROR at {index} : {e}\")"
      ]
    },
    {
      "cell_type": "code",
      "execution_count": 23,
      "metadata": {},
      "outputs": [
        {
          "name": "stderr",
          "output_type": "stream",
          "text": [
            "C:\\Users\\Pakin\\AppData\\Local\\Temp\\ipykernel_26416\\3307430667.py:7: SettingWithCopyWarning: \n",
            "A value is trying to be set on a copy of a slice from a DataFrame.\n",
            "Try using .loc[row_indexer,col_indexer] = value instead\n",
            "\n",
            "See the caveats in the documentation: https://pandas.pydata.org/pandas-docs/stable/user_guide/indexing.html#returning-a-view-versus-a-copy\n",
            "  answer_df['answer_text'] = answer\n"
          ]
        }
      ],
      "source": [
        "import re\n",
        "import json\n",
        "\n",
        "\n",
        "result_n = len(answer)\n",
        "answer_df = test_df.iloc[:result_n]\n",
        "answer_df['answer_text'] = answer"
      ]
    },
    {
      "cell_type": "code",
      "execution_count": 24,
      "metadata": {},
      "outputs": [
        {
          "name": "stderr",
          "output_type": "stream",
          "text": [
            "C:\\Users\\Pakin\\AppData\\Local\\Temp\\ipykernel_26416\\3639045823.py:1: SettingWithCopyWarning: \n",
            "A value is trying to be set on a copy of a slice from a DataFrame.\n",
            "Try using .loc[row_indexer,col_indexer] = value instead\n",
            "\n",
            "See the caveats in the documentation: https://pandas.pydata.org/pandas-docs/stable/user_guide/indexing.html#returning-a-view-versus-a-copy\n",
            "  answer_df['answer_dict'] = answer_df['answer_text'].apply(json.loads)\n",
            "C:\\Users\\Pakin\\AppData\\Local\\Temp\\ipykernel_26416\\3639045823.py:2: SettingWithCopyWarning: \n",
            "A value is trying to be set on a copy of a slice from a DataFrame.\n",
            "Try using .loc[row_indexer,col_indexer] = value instead\n",
            "\n",
            "See the caveats in the documentation: https://pandas.pydata.org/pandas-docs/stable/user_guide/indexing.html#returning-a-view-versus-a-copy\n",
            "  answer_df['model_answer'] = answer_df['answer_dict'].apply(lambda x: x['answer'])\n",
            "C:\\Users\\Pakin\\AppData\\Local\\Temp\\ipykernel_26416\\3639045823.py:3: SettingWithCopyWarning: \n",
            "A value is trying to be set on a copy of a slice from a DataFrame.\n",
            "Try using .loc[row_indexer,col_indexer] = value instead\n",
            "\n",
            "See the caveats in the documentation: https://pandas.pydata.org/pandas-docs/stable/user_guide/indexing.html#returning-a-view-versus-a-copy\n",
            "  answer_df['model_reason'] = answer_df['answer_dict'].apply(lambda x: x['reason'])\n",
            "C:\\Users\\Pakin\\AppData\\Local\\Temp\\ipykernel_26416\\3639045823.py:4: SettingWithCopyWarning: \n",
            "A value is trying to be set on a copy of a slice from a DataFrame.\n",
            "Try using .loc[row_indexer,col_indexer] = value instead\n",
            "\n",
            "See the caveats in the documentation: https://pandas.pydata.org/pandas-docs/stable/user_guide/indexing.html#returning-a-view-versus-a-copy\n",
            "  answer_df['verdict'] = answer_df['writer'] == answer_df['model_answer']\n"
          ]
        }
      ],
      "source": [
        "answer_df['answer_dict'] = answer_df['answer_text'].apply(json.loads)\n",
        "answer_df['model_answer'] = answer_df['answer_dict'].apply(lambda x: x['answer'])\n",
        "answer_df['model_reason'] = answer_df['answer_dict'].apply(lambda x: x['reason'])\n",
        "answer_df['verdict'] = answer_df['writer'] == answer_df['model_answer']\n",
        "answer_df = answer_df[['writer','model_answer','verdict','model_reason','website','source']]"
      ]
    },
    {
      "cell_type": "code",
      "execution_count": 11,
      "metadata": {},
      "outputs": [
        {
          "data": {
            "text/html": [
              "<div>\n",
              "<style scoped>\n",
              "    .dataframe tbody tr th:only-of-type {\n",
              "        vertical-align: middle;\n",
              "    }\n",
              "\n",
              "    .dataframe tbody tr th {\n",
              "        vertical-align: top;\n",
              "    }\n",
              "\n",
              "    .dataframe thead th {\n",
              "        text-align: right;\n",
              "    }\n",
              "</style>\n",
              "<table border=\"1\" class=\"dataframe\">\n",
              "  <thead>\n",
              "    <tr style=\"text-align: right;\">\n",
              "      <th></th>\n",
              "      <th>writer</th>\n",
              "      <th>model_answer</th>\n",
              "      <th>verdict</th>\n",
              "      <th>model_reason</th>\n",
              "      <th>website</th>\n",
              "      <th>source</th>\n",
              "    </tr>\n",
              "  </thead>\n",
              "  <tbody>\n",
              "    <tr>\n",
              "      <th>0</th>\n",
              "      <td>AI</td>\n",
              "      <td>human</td>\n",
              "      <td>False</td>\n",
              "      <td>This code uses the Breadth-First Search algori...</td>\n",
              "      <td>https://codeforces.com</td>\n",
              "      <td>#include &lt;bits/stdc++.h&gt;\\nusing namespace std;...</td>\n",
              "    </tr>\n",
              "    <tr>\n",
              "      <th>1</th>\n",
              "      <td>AI</td>\n",
              "      <td>human</td>\n",
              "      <td>False</td>\n",
              "      <td>This code seems to be a modified version of th...</td>\n",
              "      <td>https://codeforces.com</td>\n",
              "      <td>#include &lt;bits/stdc++.h&gt;\\nusing namespace std;...</td>\n",
              "    </tr>\n",
              "    <tr>\n",
              "      <th>2</th>\n",
              "      <td>AI</td>\n",
              "      <td>human</td>\n",
              "      <td>False</td>\n",
              "      <td>The code defines a function dfs that performs ...</td>\n",
              "      <td>https://programming.in.th</td>\n",
              "      <td>#include &lt;bits/stdc++.h&gt;\\nusing namespace std;...</td>\n",
              "    </tr>\n",
              "    <tr>\n",
              "      <th>3</th>\n",
              "      <td>human</td>\n",
              "      <td>human</td>\n",
              "      <td>True</td>\n",
              "      <td>The code has a structure that involves functio...</td>\n",
              "      <td>https://codeforces.com</td>\n",
              "      <td>//Template\\n\\n// By Anudeep :)\\n//Includes\\n#i...</td>\n",
              "    </tr>\n",
              "    <tr>\n",
              "      <th>4</th>\n",
              "      <td>AI</td>\n",
              "      <td>human</td>\n",
              "      <td>False</td>\n",
              "      <td>The code is a competitive programming problem-...</td>\n",
              "      <td>https://programming.in.th</td>\n",
              "      <td>#include &lt;bits/stdc++.h&gt;\\nusing namespace std;...</td>\n",
              "    </tr>\n",
              "    <tr>\n",
              "      <th>...</th>\n",
              "      <td>...</td>\n",
              "      <td>...</td>\n",
              "      <td>...</td>\n",
              "      <td>...</td>\n",
              "      <td>...</td>\n",
              "      <td>...</td>\n",
              "    </tr>\n",
              "    <tr>\n",
              "      <th>2995</th>\n",
              "      <td>human</td>\n",
              "      <td>human</td>\n",
              "      <td>True</td>\n",
              "      <td>The code uses short variables and basic string...</td>\n",
              "      <td>https://programming.in.th</td>\n",
              "      <td>#include &lt;bits/stdc++.h&gt;\\nusing namespace std;...</td>\n",
              "    </tr>\n",
              "    <tr>\n",
              "      <th>2996</th>\n",
              "      <td>human</td>\n",
              "      <td>human</td>\n",
              "      <td>True</td>\n",
              "      <td>This code seems to be an implementation of a s...</td>\n",
              "      <td>https://programming.in.th</td>\n",
              "      <td>#include &lt;bits/stdc++.h&gt;\\nusing namespace std;...</td>\n",
              "    </tr>\n",
              "    <tr>\n",
              "      <th>2997</th>\n",
              "      <td>Human</td>\n",
              "      <td>human</td>\n",
              "      <td>False</td>\n",
              "      <td>This code provides a helper function to check ...</td>\n",
              "      <td>https://firefly.gchan.moe</td>\n",
              "      <td>#include &lt;bits/stdc++.h&gt;\\n\\nusing namespace st...</td>\n",
              "    </tr>\n",
              "    <tr>\n",
              "      <th>2998</th>\n",
              "      <td>AI</td>\n",
              "      <td>AI</td>\n",
              "      <td>True</td>\n",
              "      <td>This code is AI generated as it contains loops...</td>\n",
              "      <td>https://codeforces.com</td>\n",
              "      <td>#include &lt;bits/stdc++.h&gt;\\nusing namespace std;...</td>\n",
              "    </tr>\n",
              "    <tr>\n",
              "      <th>2999</th>\n",
              "      <td>AI</td>\n",
              "      <td>human</td>\n",
              "      <td>False</td>\n",
              "      <td>This code appears to be a traditional backtrac...</td>\n",
              "      <td>https://codeforces.com</td>\n",
              "      <td>#include &lt;iostream&gt;\\n#include &lt;vector&gt;\\nusing ...</td>\n",
              "    </tr>\n",
              "  </tbody>\n",
              "</table>\n",
              "<p>3000 rows × 6 columns</p>\n",
              "</div>"
            ],
            "text/plain": [
              "     writer model_answer  verdict  \\\n",
              "0        AI        human    False   \n",
              "1        AI        human    False   \n",
              "2        AI        human    False   \n",
              "3     human        human     True   \n",
              "4        AI        human    False   \n",
              "...     ...          ...      ...   \n",
              "2995  human        human     True   \n",
              "2996  human        human     True   \n",
              "2997  Human        human    False   \n",
              "2998     AI           AI     True   \n",
              "2999     AI        human    False   \n",
              "\n",
              "                                           model_reason  \\\n",
              "0     This code uses the Breadth-First Search algori...   \n",
              "1     This code seems to be a modified version of th...   \n",
              "2     The code defines a function dfs that performs ...   \n",
              "3     The code has a structure that involves functio...   \n",
              "4     The code is a competitive programming problem-...   \n",
              "...                                                 ...   \n",
              "2995  The code uses short variables and basic string...   \n",
              "2996  This code seems to be an implementation of a s...   \n",
              "2997  This code provides a helper function to check ...   \n",
              "2998  This code is AI generated as it contains loops...   \n",
              "2999  This code appears to be a traditional backtrac...   \n",
              "\n",
              "                        website  \\\n",
              "0        https://codeforces.com   \n",
              "1        https://codeforces.com   \n",
              "2     https://programming.in.th   \n",
              "3        https://codeforces.com   \n",
              "4     https://programming.in.th   \n",
              "...                         ...   \n",
              "2995  https://programming.in.th   \n",
              "2996  https://programming.in.th   \n",
              "2997  https://firefly.gchan.moe   \n",
              "2998     https://codeforces.com   \n",
              "2999     https://codeforces.com   \n",
              "\n",
              "                                                 source  \n",
              "0     #include <bits/stdc++.h>\\nusing namespace std;...  \n",
              "1     #include <bits/stdc++.h>\\nusing namespace std;...  \n",
              "2     #include <bits/stdc++.h>\\nusing namespace std;...  \n",
              "3     //Template\\n\\n// By Anudeep :)\\n//Includes\\n#i...  \n",
              "4     #include <bits/stdc++.h>\\nusing namespace std;...  \n",
              "...                                                 ...  \n",
              "2995  #include <bits/stdc++.h>\\nusing namespace std;...  \n",
              "2996  #include <bits/stdc++.h>\\nusing namespace std;...  \n",
              "2997  #include <bits/stdc++.h>\\n\\nusing namespace st...  \n",
              "2998  #include <bits/stdc++.h>\\nusing namespace std;...  \n",
              "2999  #include <iostream>\\n#include <vector>\\nusing ...  \n",
              "\n",
              "[3000 rows x 6 columns]"
            ]
          },
          "execution_count": 11,
          "metadata": {},
          "output_type": "execute_result"
        }
      ],
      "source": [
        "answer_df"
      ]
    },
    {
      "cell_type": "code",
      "execution_count": 41,
      "metadata": {},
      "outputs": [],
      "source": [
        "filtered_df = pd.DataFrame()\n",
        "filtered_df[['Label','Model_Answer','Verdict','Reason','Website']] = answer_df[['writer','model_answer','verdict','model_reason','website']]"
      ]
    },
    {
      "cell_type": "code",
      "execution_count": 43,
      "metadata": {},
      "outputs": [
        {
          "data": {
            "text/html": [
              "<div>\n",
              "<style scoped>\n",
              "    .dataframe tbody tr th:only-of-type {\n",
              "        vertical-align: middle;\n",
              "    }\n",
              "\n",
              "    .dataframe tbody tr th {\n",
              "        vertical-align: top;\n",
              "    }\n",
              "\n",
              "    .dataframe thead th {\n",
              "        text-align: right;\n",
              "    }\n",
              "</style>\n",
              "<table border=\"1\" class=\"dataframe\">\n",
              "  <thead>\n",
              "    <tr style=\"text-align: right;\">\n",
              "      <th></th>\n",
              "      <th>Label</th>\n",
              "      <th>Model_Answer</th>\n",
              "      <th>Verdict</th>\n",
              "      <th>Reason</th>\n",
              "      <th>Website</th>\n",
              "    </tr>\n",
              "  </thead>\n",
              "  <tbody>\n",
              "    <tr>\n",
              "      <th>0</th>\n",
              "      <td>AI</td>\n",
              "      <td>human</td>\n",
              "      <td>False</td>\n",
              "      <td>This code uses the Breadth-First Search algori...</td>\n",
              "      <td>https://codeforces.com</td>\n",
              "    </tr>\n",
              "    <tr>\n",
              "      <th>1</th>\n",
              "      <td>AI</td>\n",
              "      <td>human</td>\n",
              "      <td>False</td>\n",
              "      <td>This code seems to be a modified version of th...</td>\n",
              "      <td>https://codeforces.com</td>\n",
              "    </tr>\n",
              "    <tr>\n",
              "      <th>2</th>\n",
              "      <td>AI</td>\n",
              "      <td>human</td>\n",
              "      <td>False</td>\n",
              "      <td>The code defines a function dfs that performs ...</td>\n",
              "      <td>https://programming.in.th</td>\n",
              "    </tr>\n",
              "    <tr>\n",
              "      <th>3</th>\n",
              "      <td>human</td>\n",
              "      <td>human</td>\n",
              "      <td>True</td>\n",
              "      <td>The code has a structure that involves functio...</td>\n",
              "      <td>https://codeforces.com</td>\n",
              "    </tr>\n",
              "    <tr>\n",
              "      <th>4</th>\n",
              "      <td>AI</td>\n",
              "      <td>human</td>\n",
              "      <td>False</td>\n",
              "      <td>The code is a competitive programming problem-...</td>\n",
              "      <td>https://programming.in.th</td>\n",
              "    </tr>\n",
              "    <tr>\n",
              "      <th>...</th>\n",
              "      <td>...</td>\n",
              "      <td>...</td>\n",
              "      <td>...</td>\n",
              "      <td>...</td>\n",
              "      <td>...</td>\n",
              "    </tr>\n",
              "    <tr>\n",
              "      <th>2995</th>\n",
              "      <td>human</td>\n",
              "      <td>human</td>\n",
              "      <td>True</td>\n",
              "      <td>The code uses short variables and basic string...</td>\n",
              "      <td>https://programming.in.th</td>\n",
              "    </tr>\n",
              "    <tr>\n",
              "      <th>2996</th>\n",
              "      <td>human</td>\n",
              "      <td>human</td>\n",
              "      <td>True</td>\n",
              "      <td>This code seems to be an implementation of a s...</td>\n",
              "      <td>https://programming.in.th</td>\n",
              "    </tr>\n",
              "    <tr>\n",
              "      <th>2997</th>\n",
              "      <td>human</td>\n",
              "      <td>human</td>\n",
              "      <td>True</td>\n",
              "      <td>This code provides a helper function to check ...</td>\n",
              "      <td>https://firefly.gchan.moe</td>\n",
              "    </tr>\n",
              "    <tr>\n",
              "      <th>2998</th>\n",
              "      <td>AI</td>\n",
              "      <td>AI</td>\n",
              "      <td>True</td>\n",
              "      <td>This code is AI generated as it contains loops...</td>\n",
              "      <td>https://codeforces.com</td>\n",
              "    </tr>\n",
              "    <tr>\n",
              "      <th>2999</th>\n",
              "      <td>AI</td>\n",
              "      <td>human</td>\n",
              "      <td>False</td>\n",
              "      <td>This code appears to be a traditional backtrac...</td>\n",
              "      <td>https://codeforces.com</td>\n",
              "    </tr>\n",
              "  </tbody>\n",
              "</table>\n",
              "<p>2996 rows × 5 columns</p>\n",
              "</div>"
            ],
            "text/plain": [
              "      Label Model_Answer  Verdict  \\\n",
              "0        AI        human    False   \n",
              "1        AI        human    False   \n",
              "2        AI        human    False   \n",
              "3     human        human     True   \n",
              "4        AI        human    False   \n",
              "...     ...          ...      ...   \n",
              "2995  human        human     True   \n",
              "2996  human        human     True   \n",
              "2997  human        human     True   \n",
              "2998     AI           AI     True   \n",
              "2999     AI        human    False   \n",
              "\n",
              "                                                 Reason  \\\n",
              "0     This code uses the Breadth-First Search algori...   \n",
              "1     This code seems to be a modified version of th...   \n",
              "2     The code defines a function dfs that performs ...   \n",
              "3     The code has a structure that involves functio...   \n",
              "4     The code is a competitive programming problem-...   \n",
              "...                                                 ...   \n",
              "2995  The code uses short variables and basic string...   \n",
              "2996  This code seems to be an implementation of a s...   \n",
              "2997  This code provides a helper function to check ...   \n",
              "2998  This code is AI generated as it contains loops...   \n",
              "2999  This code appears to be a traditional backtrac...   \n",
              "\n",
              "                        Website  \n",
              "0        https://codeforces.com  \n",
              "1        https://codeforces.com  \n",
              "2     https://programming.in.th  \n",
              "3        https://codeforces.com  \n",
              "4     https://programming.in.th  \n",
              "...                         ...  \n",
              "2995  https://programming.in.th  \n",
              "2996  https://programming.in.th  \n",
              "2997  https://firefly.gchan.moe  \n",
              "2998     https://codeforces.com  \n",
              "2999     https://codeforces.com  \n",
              "\n",
              "[2996 rows x 5 columns]"
            ]
          },
          "execution_count": 43,
          "metadata": {},
          "output_type": "execute_result"
        }
      ],
      "source": [
        "filtered_df['Model_Answer'] = filtered_df['Model_Answer'].replace('Human', 'human')\n",
        "filtered_df['Label'] = filtered_df['Label'].replace('Human', 'human')\n",
        "filtered_df['Verdict'] = filtered_df['Label']==filtered_df['Model_Answer']\n",
        "filtered_df = filtered_df[filtered_df['Model_Answer'].isin(['human', 'AI'])]\n",
        "filtered_df"
      ]
    },
    {
      "cell_type": "code",
      "execution_count": 44,
      "metadata": {},
      "outputs": [
        {
          "data": {
            "text/plain": [
              "Model_Answer\n",
              "human    2717\n",
              "AI        279\n",
              "Name: count, dtype: int64"
            ]
          },
          "execution_count": 44,
          "metadata": {},
          "output_type": "execute_result"
        }
      ],
      "source": [
        "filtered_df['Model_Answer'].value_counts()"
      ]
    },
    {
      "cell_type": "code",
      "execution_count": 45,
      "metadata": {},
      "outputs": [],
      "source": [
        "filtered_df.to_csv(\"./Results/_2/Result-CodeQwen7b.csv\",index=False)"
      ]
    },
    {
      "cell_type": "code",
      "execution_count": 40,
      "metadata": {},
      "outputs": [
        {
          "name": "stdout",
          "output_type": "stream",
          "text": [
            "AUC : 0.4836666666666667\n"
          ]
        }
      ],
      "source": [
        "accuracy = filtered_df['Verdict'].value_counts(normalize=True).get(True, 0)\n",
        "print(f\"AUC : {accuracy}\")"
      ]
    }
  ],
  "metadata": {
    "colab": {
      "machine_shape": "hm",
      "provenance": []
    },
    "kernelspec": {
      "display_name": "Python 3",
      "name": "python3"
    },
    "language_info": {
      "codemirror_mode": {
        "name": "ipython",
        "version": 3
      },
      "file_extension": ".py",
      "mimetype": "text/x-python",
      "name": "python",
      "nbconvert_exporter": "python",
      "pygments_lexer": "ipython3",
      "version": "3.12.8"
    }
  },
  "nbformat": 4,
  "nbformat_minor": 0
}
