{
 "cells": [
  {
   "cell_type": "code",
   "execution_count": 1,
   "id": "ef4c83c0",
   "metadata": {},
   "outputs": [],
   "source": [
    "from dotenv import load_dotenv\n",
    "import os\n",
    "from pathlib import Path\n",
    "import json\n",
    "import os\n",
    "import pandas as pd\n",
    "import numpy as np\n",
    "import matplotlib.pyplot as plt\n",
    "import requests"
   ]
  },
  {
   "cell_type": "markdown",
   "id": "80490104",
   "metadata": {},
   "source": [
    "## Load test dataset"
   ]
  },
  {
   "cell_type": "code",
   "execution_count": 2,
   "id": "ba818f5f",
   "metadata": {},
   "outputs": [],
   "source": [
    "dotenv_path = \"../.env\"\n",
    "dotenv_path = Path(\"../.env\")\n",
    "load_dotenv(dotenv_path=dotenv_path)\n",
    "\n",
    "deepseek_api_key = os.getenv(\"DEEPSEEK_API_KEY\")"
   ]
  },
  {
   "cell_type": "code",
   "execution_count": null,
   "id": "279fc22c",
   "metadata": {},
   "outputs": [
    {
     "data": {
      "text/html": [
       "<div>\n",
       "<style scoped>\n",
       "    .dataframe tbody tr th:only-of-type {\n",
       "        vertical-align: middle;\n",
       "    }\n",
       "\n",
       "    .dataframe tbody tr th {\n",
       "        vertical-align: top;\n",
       "    }\n",
       "\n",
       "    .dataframe thead th {\n",
       "        text-align: right;\n",
       "    }\n",
       "</style>\n",
       "<table border=\"1\" class=\"dataframe\">\n",
       "  <thead>\n",
       "    <tr style=\"text-align: right;\">\n",
       "      <th></th>\n",
       "      <th>Unnamed: 0.1</th>\n",
       "      <th>writer</th>\n",
       "      <th>problem_id</th>\n",
       "      <th>submission_id</th>\n",
       "      <th>website</th>\n",
       "      <th>source</th>\n",
       "      <th>Unnamed: 0</th>\n",
       "    </tr>\n",
       "  </thead>\n",
       "  <tbody>\n",
       "    <tr>\n",
       "      <th>0</th>\n",
       "      <td>0</td>\n",
       "      <td>AI</td>\n",
       "      <td>164A</td>\n",
       "      <td>NaN</td>\n",
       "      <td>https://codeforces.com</td>\n",
       "      <td>#include &lt;bits/stdc++.h&gt;\\nusing namespace std;...</td>\n",
       "      <td>NaN</td>\n",
       "    </tr>\n",
       "    <tr>\n",
       "      <th>1</th>\n",
       "      <td>1</td>\n",
       "      <td>AI</td>\n",
       "      <td>NaN</td>\n",
       "      <td>NaN</td>\n",
       "      <td>https://codeforces.com</td>\n",
       "      <td>#include &lt;bits/stdc++.h&gt;\\nusing namespace std;...</td>\n",
       "      <td>NaN</td>\n",
       "    </tr>\n",
       "    <tr>\n",
       "      <th>2</th>\n",
       "      <td>2</td>\n",
       "      <td>AI</td>\n",
       "      <td>o61_may08_estate</td>\n",
       "      <td>NaN</td>\n",
       "      <td>https://programming.in.th</td>\n",
       "      <td>#include &lt;bits/stdc++.h&gt;\\nusing namespace std;...</td>\n",
       "      <td>1843.0</td>\n",
       "    </tr>\n",
       "    <tr>\n",
       "      <th>3</th>\n",
       "      <td>3</td>\n",
       "      <td>human</td>\n",
       "      <td>NaN</td>\n",
       "      <td>13646458.0</td>\n",
       "      <td>https://codeforces.com</td>\n",
       "      <td>//Template\\n\\n// By Anudeep :)\\n//Includes\\n#i...</td>\n",
       "      <td>NaN</td>\n",
       "    </tr>\n",
       "    <tr>\n",
       "      <th>4</th>\n",
       "      <td>4</td>\n",
       "      <td>AI</td>\n",
       "      <td>1032</td>\n",
       "      <td>NaN</td>\n",
       "      <td>https://programming.in.th</td>\n",
       "      <td>#include &lt;bits/stdc++.h&gt;\\nusing namespace std;...</td>\n",
       "      <td>998.0</td>\n",
       "    </tr>\n",
       "    <tr>\n",
       "      <th>...</th>\n",
       "      <td>...</td>\n",
       "      <td>...</td>\n",
       "      <td>...</td>\n",
       "      <td>...</td>\n",
       "      <td>...</td>\n",
       "      <td>...</td>\n",
       "      <td>...</td>\n",
       "    </tr>\n",
       "    <tr>\n",
       "      <th>2995</th>\n",
       "      <td>2995</td>\n",
       "      <td>human</td>\n",
       "      <td>1000</td>\n",
       "      <td>306681.0</td>\n",
       "      <td>https://programming.in.th</td>\n",
       "      <td>#include &lt;bits/stdc++.h&gt;\\nusing namespace std;...</td>\n",
       "      <td>NaN</td>\n",
       "    </tr>\n",
       "    <tr>\n",
       "      <th>2996</th>\n",
       "      <td>2996</td>\n",
       "      <td>human</td>\n",
       "      <td>1055</td>\n",
       "      <td>310229.0</td>\n",
       "      <td>https://programming.in.th</td>\n",
       "      <td>#include &lt;bits/stdc++.h&gt;\\nusing namespace std;...</td>\n",
       "      <td>NaN</td>\n",
       "    </tr>\n",
       "    <tr>\n",
       "      <th>2997</th>\n",
       "      <td>2997</td>\n",
       "      <td>Human</td>\n",
       "      <td>NaN</td>\n",
       "      <td>NaN</td>\n",
       "      <td>https://firefly.gchan.moe</td>\n",
       "      <td>#include &lt;bits/stdc++.h&gt;\\n\\nusing namespace st...</td>\n",
       "      <td>NaN</td>\n",
       "    </tr>\n",
       "    <tr>\n",
       "      <th>2998</th>\n",
       "      <td>2998</td>\n",
       "      <td>AI</td>\n",
       "      <td>888F</td>\n",
       "      <td>NaN</td>\n",
       "      <td>https://codeforces.com</td>\n",
       "      <td>#include &lt;bits/stdc++.h&gt;\\nusing namespace std;...</td>\n",
       "      <td>NaN</td>\n",
       "    </tr>\n",
       "    <tr>\n",
       "      <th>2999</th>\n",
       "      <td>2999</td>\n",
       "      <td>AI</td>\n",
       "      <td>NaN</td>\n",
       "      <td>NaN</td>\n",
       "      <td>https://codeforces.com</td>\n",
       "      <td>#include &lt;iostream&gt;\\n#include &lt;vector&gt;\\nusing ...</td>\n",
       "      <td>NaN</td>\n",
       "    </tr>\n",
       "  </tbody>\n",
       "</table>\n",
       "<p>3000 rows × 7 columns</p>\n",
       "</div>"
      ],
      "text/plain": [
       "      Unnamed: 0.1 writer        problem_id  submission_id  \\\n",
       "0                0     AI              164A            NaN   \n",
       "1                1     AI               NaN            NaN   \n",
       "2                2     AI  o61_may08_estate            NaN   \n",
       "3                3  human               NaN     13646458.0   \n",
       "4                4     AI              1032            NaN   \n",
       "...            ...    ...               ...            ...   \n",
       "2995          2995  human              1000       306681.0   \n",
       "2996          2996  human              1055       310229.0   \n",
       "2997          2997  Human               NaN            NaN   \n",
       "2998          2998     AI              888F            NaN   \n",
       "2999          2999     AI               NaN            NaN   \n",
       "\n",
       "                        website  \\\n",
       "0        https://codeforces.com   \n",
       "1        https://codeforces.com   \n",
       "2     https://programming.in.th   \n",
       "3        https://codeforces.com   \n",
       "4     https://programming.in.th   \n",
       "...                         ...   \n",
       "2995  https://programming.in.th   \n",
       "2996  https://programming.in.th   \n",
       "2997  https://firefly.gchan.moe   \n",
       "2998     https://codeforces.com   \n",
       "2999     https://codeforces.com   \n",
       "\n",
       "                                                 source  Unnamed: 0  \n",
       "0     #include <bits/stdc++.h>\\nusing namespace std;...         NaN  \n",
       "1     #include <bits/stdc++.h>\\nusing namespace std;...         NaN  \n",
       "2     #include <bits/stdc++.h>\\nusing namespace std;...      1843.0  \n",
       "3     //Template\\n\\n// By Anudeep :)\\n//Includes\\n#i...         NaN  \n",
       "4     #include <bits/stdc++.h>\\nusing namespace std;...       998.0  \n",
       "...                                                 ...         ...  \n",
       "2995  #include <bits/stdc++.h>\\nusing namespace std;...         NaN  \n",
       "2996  #include <bits/stdc++.h>\\nusing namespace std;...         NaN  \n",
       "2997  #include <bits/stdc++.h>\\n\\nusing namespace st...         NaN  \n",
       "2998  #include <bits/stdc++.h>\\nusing namespace std;...         NaN  \n",
       "2999  #include <iostream>\\n#include <vector>\\nusing ...         NaN  \n",
       "\n",
       "[3000 rows x 7 columns]"
      ]
     },
     "execution_count": 3,
     "metadata": {},
     "output_type": "execute_result"
    }
   ],
   "source": [
    "test_df = pd.read_csv('../Splits/combined/sub_test.csv')\n",
    "# test_df = pd.read_csv('../Splits/harder_test/sub_test.csv')\n",
    "test_df"
   ]
  },
  {
   "cell_type": "code",
   "execution_count": 4,
   "id": "767fd3f9",
   "metadata": {},
   "outputs": [
    {
     "data": {
      "text/plain": [
       "'You are the best C++ code detector. Your job is to determine whether the competitive programming source code is AI-generated or written by a human.\\n\\n### Steps:\\n1. **Read the source code carefully** to understand what does the code doing.\\n2. **Identify the patterns of code** and analyze whter it\\'s AI-generated or not, like checking unnesscary space, variables, new lines, or comments.\\n3. **Determine if it\\'s Human or AI** from the data you have.\\n4. **From the reason** Answer if it AI or Human.\\n\\nYou must respond in JSON format, like this:\\n```json\\n{   \\n    \"reason\": \"Why this code is human-written or AI-generated\"\\n    \"answer\": \"human\" / \"AI\",  \\n}\\n```\\n- You must not provide any other text, except JSON.\\n- In the reason part, don\\'t use symbol like \" , ` , \\\\n, use only normal character.\\nHere is C++ source code:\\n'"
      ]
     },
     "execution_count": 4,
     "metadata": {},
     "output_type": "execute_result"
    }
   ],
   "source": [
    "# Prompt URL\n",
    "prompt_path = \"./Prompts/PromptV1.txt\"\n",
    "\n",
    "with open(prompt_path,'r') as _prompt:\n",
    "  prompt = _prompt.read()\n",
    "prompt"
   ]
  },
  {
   "cell_type": "code",
   "execution_count": 5,
   "id": "cb59a4bb",
   "metadata": {},
   "outputs": [
    {
     "data": {
      "text/plain": [
       "'You are the best C++ code detector. Your job is to determine whether the competitive programming source code is AI-generated or written by a human.\\n\\n### Steps:\\n1. **Read the source code carefully** to understand what does the code doing.\\n2. **Identify the patterns of code** and analyze whter it\\'s AI-generated or not, like checking unnesscary space, variables, new lines, or comments.\\n3. **Determine if it\\'s Human or AI** from the data you have.\\n4. **From the reason** Answer if it AI or Human.\\n\\nYou must respond in JSON format, like this:\\n```json\\n{   \\n    \"reason\": \"Why this code is human-written or AI-generated\"\\n    \"answer\": \"human\" / \"AI\",  \\n}\\n```\\n- You must not provide any other text, except JSON.\\n- In the reason part, don\\'t use symbol like \" , ` , \\\\n, use only normal character.\\nHere is C++ source code:\\n\\n\\n#include <bits/stdc++.h>\\nusing namespace std;\\n\\nint main() {\\n    ios_base::sync_with_stdio(false);\\n    cin.tie(nullptr);\\n\\n    int n, m;\\n    cin >> n >> m;\\n\\n    vector<int> f(n);\\n    for (int& x : f) cin >> x;\\n\\n    vector<vector<int>> adj(n + 1), reverse_adj(n + 1);\\n    for (int i = 0; i < m; ++i) {\\n        int a, b;\\n        cin >> a >> b;\\n        adj[a].push_back(b);\\n        reverse_adj[b].push_back(a);\\n    }\\n\\n    vector<bool> forward(n + 1, false), backward(n + 1, false);\\n    queue<int> q;\\n\\n    // Compute forward reachable (from assigns through 0s and 2s)\\n    for (int u = 1; u <= n; ++u) {\\n        if (f[u - 1] == 1 && !forward[u]) {\\n            forward[u] = true;\\n            q.push(u);\\n        }\\n    }\\n    while (!q.empty()) {\\n        int u = q.front();\\n        q.pop();\\n        for (int v : adj[u]) {\\n            if (!forward[v]) {\\n                if (f[v - 1] == 0) {\\n                    forward[v] = true;\\n                    q.push(v);\\n                } else if (f[v - 1] == 2) {\\n                    forward[v] = true;\\n                }\\n            }\\n        }\\n    }\\n\\n    // Compute backward reachable (to uses through 0s and 1s)\\n    for (int w = 1; w <= n; ++w) {\\n        if (f[w - 1] == 2 && !backward[w]) {\\n            backward[w] = true;\\n            q.push(w);\\n        }\\n    }\\n    while (!q.empty()) {\\n        int w = q.front();\\n        q.pop();\\n        for (int v : reverse_adj[w]) {\\n            if (!backward[v]) {\\n                if (f[v - 1] == 0) {\\n                    backward[v] = true;\\n                    q.push(v);\\n                } else if (f[v - 1] == 1) {\\n                    backward[v] = true;\\n                }\\n            }\\n        }\\n    }\\n\\n    // Output results\\n    for (int i = 1; i <= n; ++i) {\\n        cout << (forward[i] && backward[i] ? 1 : 0) << \" \";\\n    }\\n    cout << endl;\\n\\n    return 0;\\n}\\n'"
      ]
     },
     "execution_count": 5,
     "metadata": {},
     "output_type": "execute_result"
    }
   ],
   "source": [
    "test_df['prompt'] = prompt + \"\\n\\n\" + test_df['source']\n",
    "test_df['prompt'][0]"
   ]
  },
  {
   "cell_type": "markdown",
   "id": "70fd5684",
   "metadata": {},
   "source": [
    "## Deepseek"
   ]
  },
  {
   "cell_type": "code",
   "execution_count": 6,
   "id": "aa3c974a",
   "metadata": {},
   "outputs": [],
   "source": [
    "from openai import OpenAI\n",
    "client = OpenAI(api_key=deepseek_api_key, base_url=\"https://api.deepseek.com\")"
   ]
  },
  {
   "cell_type": "code",
   "execution_count": 7,
   "id": "6a800018",
   "metadata": {},
   "outputs": [],
   "source": [
    "BACKUP_PATH = \"./Backups/Result-DeepseekR1-Reasoner.csv\"\n",
    "\n",
    "def save_responses(res):\n",
    "    df = pd.DataFrame(res, columns=['back_up'])\n",
    "    df.to_csv(BACKUP_PATH,index=False)"
   ]
  },
  {
   "cell_type": "code",
   "execution_count": 8,
   "id": "deef920c",
   "metadata": {},
   "outputs": [
    {
     "data": {
      "text/plain": [
       "50"
      ]
     },
     "execution_count": 8,
     "metadata": {},
     "output_type": "execute_result"
    }
   ],
   "source": [
    "try:\n",
    "    saved_df = pd.read_csv(BACKUP_PATH)\n",
    "    responses = saved_df['back_up'].to_list()\n",
    "except Exception as e:\n",
    "    print(f\"ERROR : {e}\")\n",
    "    responses = []\n",
    "len(responses)"
   ]
  },
  {
   "cell_type": "code",
   "execution_count": null,
   "id": "e3a38173",
   "metadata": {},
   "outputs": [],
   "source": [
    "err_logs = []\n",
    "from rich import print\n",
    "\n",
    "from IPython.display import clear_output\n",
    "for index, row in test_df[len(responses):].iterrows():\n",
    "  if index%50 == 0 and index != 0:\n",
    "    save_responses(responses)\n",
    "  source = row['source']\n",
    "  print(f\"ASKED : {index}\")\n",
    "  try:\n",
    "    response = client.chat.completions.create(\n",
    "      model=\"deepseek-reasoner\",\n",
    "      messages=[\n",
    "          {\"role\": \"system\", \"content\": prompt},\n",
    "          {\"role\": \"user\", \"content\": source},\n",
    "      ],\n",
    "      stream=False\n",
    "    )\n",
    "    clear_output()\n",
    "    responses.append(response.choices[0].message.content)\n",
    "    print(response.choices[0].message.content)\n",
    "  except Exception as e:\n",
    "    clear_output()\n",
    "    err_logs.append((index,e))\n",
    "    print(f\"ERROR at {index} : {e}\")\n",
    "\n",
    "  "
   ]
  },
  {
   "cell_type": "code",
   "execution_count": 10,
   "id": "7574b384",
   "metadata": {},
   "outputs": [],
   "source": [
    "save_responses(responses)"
   ]
  },
  {
   "cell_type": "code",
   "execution_count": 12,
   "id": "0519b277",
   "metadata": {},
   "outputs": [
    {
     "name": "stderr",
     "output_type": "stream",
     "text": [
      "C:\\Users\\Pakin\\AppData\\Local\\Temp\\ipykernel_5764\\1922296617.py:7: SettingWithCopyWarning: \n",
      "A value is trying to be set on a copy of a slice from a DataFrame.\n",
      "Try using .loc[row_indexer,col_indexer] = value instead\n",
      "\n",
      "See the caveats in the documentation: https://pandas.pydata.org/pandas-docs/stable/user_guide/indexing.html#returning-a-view-versus-a-copy\n",
      "  answer_df['answer_text'] = responses\n"
     ]
    }
   ],
   "source": [
    "import re\n",
    "import json\n",
    "\n",
    "\n",
    "result_n = len(responses)\n",
    "answer_df = test_df.iloc[:result_n]\n",
    "answer_df['answer_text'] = responses"
   ]
  },
  {
   "cell_type": "code",
   "execution_count": 13,
   "id": "e16b8ca7",
   "metadata": {},
   "outputs": [
    {
     "name": "stderr",
     "output_type": "stream",
     "text": [
      "C:\\Users\\Pakin\\AppData\\Local\\Temp\\ipykernel_5764\\1101181029.py:2: SettingWithCopyWarning: \n",
      "A value is trying to be set on a copy of a slice from a DataFrame.\n",
      "Try using .loc[row_indexer,col_indexer] = value instead\n",
      "\n",
      "See the caveats in the documentation: https://pandas.pydata.org/pandas-docs/stable/user_guide/indexing.html#returning-a-view-versus-a-copy\n",
      "  answer_df['answer_json_txt'] = answer_df['answer_text'].apply(lambda x: pattern.search(x).group(1) if pattern.search(x) else x)\n"
     ]
    }
   ],
   "source": [
    "pattern = re.compile(r'```json\\s*(\\{.*?\\})\\s*```', re.DOTALL)\n",
    "answer_df['answer_json_txt'] = answer_df['answer_text'].apply(lambda x: pattern.search(x).group(1) if pattern.search(x) else x)"
   ]
  },
  {
   "cell_type": "code",
   "execution_count": 14,
   "id": "d9fee7a5",
   "metadata": {},
   "outputs": [
    {
     "name": "stderr",
     "output_type": "stream",
     "text": [
      "C:\\Users\\Pakin\\AppData\\Local\\Temp\\ipykernel_5764\\1828042203.py:1: SettingWithCopyWarning: \n",
      "A value is trying to be set on a copy of a slice from a DataFrame.\n",
      "Try using .loc[row_indexer,col_indexer] = value instead\n",
      "\n",
      "See the caveats in the documentation: https://pandas.pydata.org/pandas-docs/stable/user_guide/indexing.html#returning-a-view-versus-a-copy\n",
      "  answer_df['answer_dict'] = answer_df['answer_json_txt'].apply(json.loads)\n",
      "C:\\Users\\Pakin\\AppData\\Local\\Temp\\ipykernel_5764\\1828042203.py:2: SettingWithCopyWarning: \n",
      "A value is trying to be set on a copy of a slice from a DataFrame.\n",
      "Try using .loc[row_indexer,col_indexer] = value instead\n",
      "\n",
      "See the caveats in the documentation: https://pandas.pydata.org/pandas-docs/stable/user_guide/indexing.html#returning-a-view-versus-a-copy\n",
      "  answer_df['model_answer'] = answer_df['answer_dict'].apply(lambda x: x['answer'])\n",
      "C:\\Users\\Pakin\\AppData\\Local\\Temp\\ipykernel_5764\\1828042203.py:3: SettingWithCopyWarning: \n",
      "A value is trying to be set on a copy of a slice from a DataFrame.\n",
      "Try using .loc[row_indexer,col_indexer] = value instead\n",
      "\n",
      "See the caveats in the documentation: https://pandas.pydata.org/pandas-docs/stable/user_guide/indexing.html#returning-a-view-versus-a-copy\n",
      "  answer_df['model_reason'] = answer_df['answer_dict'].apply(lambda x: x['reason'])\n",
      "C:\\Users\\Pakin\\AppData\\Local\\Temp\\ipykernel_5764\\1828042203.py:4: SettingWithCopyWarning: \n",
      "A value is trying to be set on a copy of a slice from a DataFrame.\n",
      "Try using .loc[row_indexer,col_indexer] = value instead\n",
      "\n",
      "See the caveats in the documentation: https://pandas.pydata.org/pandas-docs/stable/user_guide/indexing.html#returning-a-view-versus-a-copy\n",
      "  answer_df['verdict'] = answer_df['writer'] == answer_df['model_answer']\n"
     ]
    }
   ],
   "source": [
    "answer_df['answer_dict'] = answer_df['answer_json_txt'].apply(json.loads)\n",
    "answer_df['model_answer'] = answer_df['answer_dict'].apply(lambda x: x['answer'])\n",
    "answer_df['model_reason'] = answer_df['answer_dict'].apply(lambda x: x['reason'])\n",
    "answer_df['verdict'] = answer_df['writer'] == answer_df['model_answer']\n",
    "answer_df = answer_df[['writer','model_answer','verdict','model_reason','website','source']]"
   ]
  },
  {
   "cell_type": "code",
   "execution_count": 15,
   "id": "329d2713",
   "metadata": {},
   "outputs": [],
   "source": [
    "filtered_df = pd.DataFrame()\n",
    "filtered_df[['Label','Model_Answer','Verdict','Reason','Website']] = answer_df[['writer','model_answer','verdict','model_reason','website']]"
   ]
  },
  {
   "cell_type": "code",
   "execution_count": 16,
   "id": "3f11e9b9",
   "metadata": {},
   "outputs": [],
   "source": [
    "# I forgot about upper-lower case T-T\n",
    "filtered_df['Label'] = filtered_df['Label'].replace('Human', 'human')\n",
    "filtered_df['Verdict'] = filtered_df['Label']==filtered_df['Model_Answer']"
   ]
  },
  {
   "cell_type": "code",
   "execution_count": 17,
   "id": "e1c47306",
   "metadata": {},
   "outputs": [
    {
     "data": {
      "text/html": [
       "<div>\n",
       "<style scoped>\n",
       "    .dataframe tbody tr th:only-of-type {\n",
       "        vertical-align: middle;\n",
       "    }\n",
       "\n",
       "    .dataframe tbody tr th {\n",
       "        vertical-align: top;\n",
       "    }\n",
       "\n",
       "    .dataframe thead th {\n",
       "        text-align: right;\n",
       "    }\n",
       "</style>\n",
       "<table border=\"1\" class=\"dataframe\">\n",
       "  <thead>\n",
       "    <tr style=\"text-align: right;\">\n",
       "      <th></th>\n",
       "      <th>Label</th>\n",
       "      <th>Model_Answer</th>\n",
       "      <th>Verdict</th>\n",
       "      <th>Reason</th>\n",
       "      <th>Website</th>\n",
       "    </tr>\n",
       "  </thead>\n",
       "  <tbody>\n",
       "    <tr>\n",
       "      <th>0</th>\n",
       "      <td>AI</td>\n",
       "      <td>human</td>\n",
       "      <td>False</td>\n",
       "      <td>The code uses standard competitive programming...</td>\n",
       "      <td>https://codeforces.com</td>\n",
       "    </tr>\n",
       "    <tr>\n",
       "      <th>1</th>\n",
       "      <td>AI</td>\n",
       "      <td>human</td>\n",
       "      <td>False</td>\n",
       "      <td>The code uses competitive programming idioms l...</td>\n",
       "      <td>https://codeforces.com</td>\n",
       "    </tr>\n",
       "    <tr>\n",
       "      <th>2</th>\n",
       "      <td>AI</td>\n",
       "      <td>human</td>\n",
       "      <td>False</td>\n",
       "      <td>The code uses competitive programming practice...</td>\n",
       "      <td>https://programming.in.th</td>\n",
       "    </tr>\n",
       "    <tr>\n",
       "      <th>3</th>\n",
       "      <td>human</td>\n",
       "      <td>human</td>\n",
       "      <td>True</td>\n",
       "      <td>The code uses competitive programming shortcut...</td>\n",
       "      <td>https://codeforces.com</td>\n",
       "    </tr>\n",
       "    <tr>\n",
       "      <th>4</th>\n",
       "      <td>AI</td>\n",
       "      <td>human</td>\n",
       "      <td>False</td>\n",
       "      <td>The code uses competitive programming practice...</td>\n",
       "      <td>https://programming.in.th</td>\n",
       "    </tr>\n",
       "    <tr>\n",
       "      <th>...</th>\n",
       "      <td>...</td>\n",
       "      <td>...</td>\n",
       "      <td>...</td>\n",
       "      <td>...</td>\n",
       "      <td>...</td>\n",
       "    </tr>\n",
       "    <tr>\n",
       "      <th>662</th>\n",
       "      <td>AI</td>\n",
       "      <td>AI</td>\n",
       "      <td>True</td>\n",
       "      <td>The code uses an extremely inefficient method ...</td>\n",
       "      <td>https://programming.in.th</td>\n",
       "    </tr>\n",
       "    <tr>\n",
       "      <th>663</th>\n",
       "      <td>human</td>\n",
       "      <td>human</td>\n",
       "      <td>True</td>\n",
       "      <td>The code uses global variables and a recursive...</td>\n",
       "      <td>https://firefly.gchan.moe</td>\n",
       "    </tr>\n",
       "    <tr>\n",
       "      <th>664</th>\n",
       "      <td>human</td>\n",
       "      <td>human</td>\n",
       "      <td>True</td>\n",
       "      <td>The code includes unused macros like MAX and M...</td>\n",
       "      <td>https://codeforces.com</td>\n",
       "    </tr>\n",
       "    <tr>\n",
       "      <th>665</th>\n",
       "      <td>human</td>\n",
       "      <td>human</td>\n",
       "      <td>True</td>\n",
       "      <td>The code uses common competitive programming s...</td>\n",
       "      <td>https://firefly.gchan.moe</td>\n",
       "    </tr>\n",
       "    <tr>\n",
       "      <th>666</th>\n",
       "      <td>AI</td>\n",
       "      <td>human</td>\n",
       "      <td>False</td>\n",
       "      <td>The code uses competitive programming shortcut...</td>\n",
       "      <td>https://firefly.gchan.moe</td>\n",
       "    </tr>\n",
       "  </tbody>\n",
       "</table>\n",
       "<p>667 rows × 5 columns</p>\n",
       "</div>"
      ],
      "text/plain": [
       "     Label Model_Answer  Verdict  \\\n",
       "0       AI        human    False   \n",
       "1       AI        human    False   \n",
       "2       AI        human    False   \n",
       "3    human        human     True   \n",
       "4       AI        human    False   \n",
       "..     ...          ...      ...   \n",
       "662     AI           AI     True   \n",
       "663  human        human     True   \n",
       "664  human        human     True   \n",
       "665  human        human     True   \n",
       "666     AI        human    False   \n",
       "\n",
       "                                                Reason  \\\n",
       "0    The code uses standard competitive programming...   \n",
       "1    The code uses competitive programming idioms l...   \n",
       "2    The code uses competitive programming practice...   \n",
       "3    The code uses competitive programming shortcut...   \n",
       "4    The code uses competitive programming practice...   \n",
       "..                                                 ...   \n",
       "662  The code uses an extremely inefficient method ...   \n",
       "663  The code uses global variables and a recursive...   \n",
       "664  The code includes unused macros like MAX and M...   \n",
       "665  The code uses common competitive programming s...   \n",
       "666  The code uses competitive programming shortcut...   \n",
       "\n",
       "                       Website  \n",
       "0       https://codeforces.com  \n",
       "1       https://codeforces.com  \n",
       "2    https://programming.in.th  \n",
       "3       https://codeforces.com  \n",
       "4    https://programming.in.th  \n",
       "..                         ...  \n",
       "662  https://programming.in.th  \n",
       "663  https://firefly.gchan.moe  \n",
       "664     https://codeforces.com  \n",
       "665  https://firefly.gchan.moe  \n",
       "666  https://firefly.gchan.moe  \n",
       "\n",
       "[667 rows x 5 columns]"
      ]
     },
     "execution_count": 17,
     "metadata": {},
     "output_type": "execute_result"
    }
   ],
   "source": [
    "filtered_df"
   ]
  },
  {
   "cell_type": "code",
   "execution_count": null,
   "id": "4390b7f8",
   "metadata": {},
   "outputs": [],
   "source": [
    "filtered_df.to_csv(\"./Results/_2/Result-DeepseekR1-Reasoner.csv\",index=False)"
   ]
  },
  {
   "cell_type": "code",
   "execution_count": 20,
   "id": "982ca015",
   "metadata": {},
   "outputs": [
    {
     "data": {
      "text/html": [
       "<pre style=\"white-space:pre;overflow-x:auto;line-height:normal;font-family:Menlo,'DejaVu Sans Mono',consolas,'Courier New',monospace\">AUC : <span style=\"color: #008080; text-decoration-color: #008080; font-weight: bold\">0.527736131934033</span>\n",
       "</pre>\n"
      ],
      "text/plain": [
       "AUC : \u001b[1;36m0.527736131934033\u001b[0m\n"
      ]
     },
     "metadata": {},
     "output_type": "display_data"
    }
   ],
   "source": [
    "accuracy = filtered_df['Verdict'].value_counts(normalize=True).get(True, 0)\n",
    "print(f\"AUC : {accuracy}\")"
   ]
  }
 ],
 "metadata": {
  "kernelspec": {
   "display_name": "Python 3",
   "language": "python",
   "name": "python3"
  },
  "language_info": {
   "codemirror_mode": {
    "name": "ipython",
    "version": 3
   },
   "file_extension": ".py",
   "mimetype": "text/x-python",
   "name": "python",
   "nbconvert_exporter": "python",
   "pygments_lexer": "ipython3",
   "version": "3.12.8"
  }
 },
 "nbformat": 4,
 "nbformat_minor": 5
}
