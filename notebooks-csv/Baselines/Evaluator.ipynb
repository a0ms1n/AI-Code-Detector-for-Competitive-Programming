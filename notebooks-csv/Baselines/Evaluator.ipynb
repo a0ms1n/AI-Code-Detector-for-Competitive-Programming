{
 "cells": [
  {
   "cell_type": "code",
   "execution_count": null,
   "id": "ecf8756b",
   "metadata": {},
   "outputs": [],
   "source": [
    "from dotenv import load_dotenv\n",
    "import os\n",
    "from pathlib import Path\n",
    "import json\n",
    "import os\n",
    "import pandas as pd\n",
    "import numpy as np\n",
    "import matplotlib.pyplot as plt\n",
    "import requests"
   ]
  },
  {
   "cell_type": "code",
   "execution_count": 2,
   "id": "265b3cce",
   "metadata": {},
   "outputs": [],
   "source": [
    "from sklearn.metrics import precision_score, recall_score, classification_report"
   ]
  },
  {
   "cell_type": "markdown",
   "id": "605f2660",
   "metadata": {},
   "source": [
    "### Baselines Report"
   ]
  },
  {
   "cell_type": "code",
   "execution_count": null,
   "id": "fef62f78",
   "metadata": {},
   "outputs": [
    {
     "data": {
      "text/html": [
       "<pre style=\"white-space:pre;overflow-x:auto;line-height:normal;font-family:Menlo,'DejaVu Sans Mono',consolas,'Courier New',monospace\">File: Result-Desklib_AI-Detector, DataFrame shape: <span style=\"font-weight: bold\">(</span><span style=\"color: #008080; text-decoration-color: #008080; font-weight: bold\">2400</span>, <span style=\"color: #008080; text-decoration-color: #008080; font-weight: bold\">5</span><span style=\"font-weight: bold\">)</span>\n",
       "</pre>\n"
      ],
      "text/plain": [
       "File: Result-Desklib_AI-Detector, DataFrame shape: \u001b[1m(\u001b[0m\u001b[1;36m2400\u001b[0m, \u001b[1;36m5\u001b[0m\u001b[1m)\u001b[0m\n"
      ]
     },
     "metadata": {},
     "output_type": "display_data"
    },
    {
     "data": {
      "text/html": [
       "<pre style=\"white-space:pre;overflow-x:auto;line-height:normal;font-family:Menlo,'DejaVu Sans Mono',consolas,'Courier New',monospace\">File: Result-Gemini2.<span style=\"color: #008080; text-decoration-color: #008080; font-weight: bold\">0</span>, DataFrame shape: <span style=\"font-weight: bold\">(</span><span style=\"color: #008080; text-decoration-color: #008080; font-weight: bold\">2400</span>, <span style=\"color: #008080; text-decoration-color: #008080; font-weight: bold\">5</span><span style=\"font-weight: bold\">)</span>\n",
       "</pre>\n"
      ],
      "text/plain": [
       "File: Result-Gemini2.\u001b[1;36m0\u001b[0m, DataFrame shape: \u001b[1m(\u001b[0m\u001b[1;36m2400\u001b[0m, \u001b[1;36m5\u001b[0m\u001b[1m)\u001b[0m\n"
      ]
     },
     "metadata": {},
     "output_type": "display_data"
    },
    {
     "data": {
      "text/html": [
       "<pre style=\"white-space:pre;overflow-x:auto;line-height:normal;font-family:Menlo,'DejaVu Sans Mono',consolas,'Courier New',monospace\">File: Result-RoBERTaLaegeOpenAI-Detector, DataFrame shape: <span style=\"font-weight: bold\">(</span><span style=\"color: #008080; text-decoration-color: #008080; font-weight: bold\">2400</span>, <span style=\"color: #008080; text-decoration-color: #008080; font-weight: bold\">5</span><span style=\"font-weight: bold\">)</span>\n",
       "</pre>\n"
      ],
      "text/plain": [
       "File: Result-RoBERTaLaegeOpenAI-Detector, DataFrame shape: \u001b[1m(\u001b[0m\u001b[1;36m2400\u001b[0m, \u001b[1;36m5\u001b[0m\u001b[1m)\u001b[0m\n"
      ]
     },
     "metadata": {},
     "output_type": "display_data"
    },
    {
     "data": {
      "text/html": [
       "<pre style=\"white-space:pre;overflow-x:auto;line-height:normal;font-family:Menlo,'DejaVu Sans Mono',consolas,'Courier New',monospace\">File: Result-RuleBased, DataFrame shape: <span style=\"font-weight: bold\">(</span><span style=\"color: #008080; text-decoration-color: #008080; font-weight: bold\">2400</span>, <span style=\"color: #008080; text-decoration-color: #008080; font-weight: bold\">5</span><span style=\"font-weight: bold\">)</span>\n",
       "</pre>\n"
      ],
      "text/plain": [
       "File: Result-RuleBased, DataFrame shape: \u001b[1m(\u001b[0m\u001b[1;36m2400\u001b[0m, \u001b[1;36m5\u001b[0m\u001b[1m)\u001b[0m\n"
      ]
     },
     "metadata": {},
     "output_type": "display_data"
    }
   ],
   "source": [
    "RESULT_PATH = \"./Results/Example\"\n",
    "\n",
    "dataframes_list = []\n",
    "\n",
    "for filename in os.listdir(RESULT_PATH):\n",
    "    if filename.endswith('.csv'):\n",
    "        file_path = os.path.join(RESULT_PATH, filename)\n",
    "        df = pd.read_csv(file_path)\n",
    "        file_name_without_extension = os.path.splitext(filename)[0]   \n",
    "        dataframes_list.append((file_name_without_extension, df))\n",
    "\n",
    "for file_name, df in dataframes_list:\n",
    "    print(f\"File: {file_name}, DataFrame shape: {df.shape}\")"
   ]
  },
  {
   "cell_type": "code",
   "execution_count": 6,
   "id": "dc38b67b",
   "metadata": {},
   "outputs": [],
   "source": [
    "def result_to_report(df):\n",
    "    return classification_report(df['Label'], df['Model_Answer'], target_names=['AI', 'human']) , classification_report(df['Label'], df['Model_Answer'], target_names=['AI', 'human'],output_dict=True)"
   ]
  },
  {
   "cell_type": "code",
   "execution_count": 7,
   "id": "954b544a",
   "metadata": {},
   "outputs": [
    {
     "data": {
      "text/html": [
       "<pre style=\"white-space:pre;overflow-x:auto;line-height:normal;font-family:Menlo,'DejaVu Sans Mono',consolas,'Courier New',monospace\"> Result-Desklib_AI-Detector :\n",
       "</pre>\n"
      ],
      "text/plain": [
       " Result-Desklib_AI-Detector :\n"
      ]
     },
     "metadata": {},
     "output_type": "display_data"
    },
    {
     "data": {
      "text/html": [
       "<pre style=\"white-space:pre;overflow-x:auto;line-height:normal;font-family:Menlo,'DejaVu Sans Mono',consolas,'Courier New',monospace\">              precision    recall  f1-score   support\n",
       "\n",
       "          AI       <span style=\"color: #008080; text-decoration-color: #008080; font-weight: bold\">0.51</span>      <span style=\"color: #008080; text-decoration-color: #008080; font-weight: bold\">1.00</span>      <span style=\"color: #008080; text-decoration-color: #008080; font-weight: bold\">0.67</span>      <span style=\"color: #008080; text-decoration-color: #008080; font-weight: bold\">1200</span>\n",
       "       human       <span style=\"color: #008080; text-decoration-color: #008080; font-weight: bold\">0.90</span>      <span style=\"color: #008080; text-decoration-color: #008080; font-weight: bold\">0.04</span>      <span style=\"color: #008080; text-decoration-color: #008080; font-weight: bold\">0.07</span>      <span style=\"color: #008080; text-decoration-color: #008080; font-weight: bold\">1200</span>\n",
       "\n",
       "    accuracy                           <span style=\"color: #008080; text-decoration-color: #008080; font-weight: bold\">0.52</span>      <span style=\"color: #008080; text-decoration-color: #008080; font-weight: bold\">2400</span>\n",
       "   macro avg       <span style=\"color: #008080; text-decoration-color: #008080; font-weight: bold\">0.70</span>      <span style=\"color: #008080; text-decoration-color: #008080; font-weight: bold\">0.52</span>      <span style=\"color: #008080; text-decoration-color: #008080; font-weight: bold\">0.37</span>      <span style=\"color: #008080; text-decoration-color: #008080; font-weight: bold\">2400</span>\n",
       "weighted avg       <span style=\"color: #008080; text-decoration-color: #008080; font-weight: bold\">0.70</span>      <span style=\"color: #008080; text-decoration-color: #008080; font-weight: bold\">0.52</span>      <span style=\"color: #008080; text-decoration-color: #008080; font-weight: bold\">0.37</span>      <span style=\"color: #008080; text-decoration-color: #008080; font-weight: bold\">2400</span>\n",
       "\n",
       "</pre>\n"
      ],
      "text/plain": [
       "              precision    recall  f1-score   support\n",
       "\n",
       "          AI       \u001b[1;36m0.51\u001b[0m      \u001b[1;36m1.00\u001b[0m      \u001b[1;36m0.67\u001b[0m      \u001b[1;36m1200\u001b[0m\n",
       "       human       \u001b[1;36m0.90\u001b[0m      \u001b[1;36m0.04\u001b[0m      \u001b[1;36m0.07\u001b[0m      \u001b[1;36m1200\u001b[0m\n",
       "\n",
       "    accuracy                           \u001b[1;36m0.52\u001b[0m      \u001b[1;36m2400\u001b[0m\n",
       "   macro avg       \u001b[1;36m0.70\u001b[0m      \u001b[1;36m0.52\u001b[0m      \u001b[1;36m0.37\u001b[0m      \u001b[1;36m2400\u001b[0m\n",
       "weighted avg       \u001b[1;36m0.70\u001b[0m      \u001b[1;36m0.52\u001b[0m      \u001b[1;36m0.37\u001b[0m      \u001b[1;36m2400\u001b[0m\n",
       "\n"
      ]
     },
     "metadata": {},
     "output_type": "display_data"
    },
    {
     "data": {
      "text/html": [
       "<pre style=\"white-space:pre;overflow-x:auto;line-height:normal;font-family:Menlo,'DejaVu Sans Mono',consolas,'Courier New',monospace\"> Result-Gemini2.<span style=\"color: #008080; text-decoration-color: #008080; font-weight: bold\">0</span> :\n",
       "</pre>\n"
      ],
      "text/plain": [
       " Result-Gemini2.\u001b[1;36m0\u001b[0m :\n"
      ]
     },
     "metadata": {},
     "output_type": "display_data"
    },
    {
     "data": {
      "text/html": [
       "<pre style=\"white-space:pre;overflow-x:auto;line-height:normal;font-family:Menlo,'DejaVu Sans Mono',consolas,'Courier New',monospace\">              precision    recall  f1-score   support\n",
       "\n",
       "          AI       <span style=\"color: #008080; text-decoration-color: #008080; font-weight: bold\">0.21</span>      <span style=\"color: #008080; text-decoration-color: #008080; font-weight: bold\">0.01</span>      <span style=\"color: #008080; text-decoration-color: #008080; font-weight: bold\">0.02</span>      <span style=\"color: #008080; text-decoration-color: #008080; font-weight: bold\">1200</span>\n",
       "       human       <span style=\"color: #008080; text-decoration-color: #008080; font-weight: bold\">0.49</span>      <span style=\"color: #008080; text-decoration-color: #008080; font-weight: bold\">0.97</span>      <span style=\"color: #008080; text-decoration-color: #008080; font-weight: bold\">0.65</span>      <span style=\"color: #008080; text-decoration-color: #008080; font-weight: bold\">1200</span>\n",
       "\n",
       "    accuracy                           <span style=\"color: #008080; text-decoration-color: #008080; font-weight: bold\">0.49</span>      <span style=\"color: #008080; text-decoration-color: #008080; font-weight: bold\">2400</span>\n",
       "   macro avg       <span style=\"color: #008080; text-decoration-color: #008080; font-weight: bold\">0.35</span>      <span style=\"color: #008080; text-decoration-color: #008080; font-weight: bold\">0.49</span>      <span style=\"color: #008080; text-decoration-color: #008080; font-weight: bold\">0.34</span>      <span style=\"color: #008080; text-decoration-color: #008080; font-weight: bold\">2400</span>\n",
       "weighted avg       <span style=\"color: #008080; text-decoration-color: #008080; font-weight: bold\">0.35</span>      <span style=\"color: #008080; text-decoration-color: #008080; font-weight: bold\">0.49</span>      <span style=\"color: #008080; text-decoration-color: #008080; font-weight: bold\">0.34</span>      <span style=\"color: #008080; text-decoration-color: #008080; font-weight: bold\">2400</span>\n",
       "\n",
       "</pre>\n"
      ],
      "text/plain": [
       "              precision    recall  f1-score   support\n",
       "\n",
       "          AI       \u001b[1;36m0.21\u001b[0m      \u001b[1;36m0.01\u001b[0m      \u001b[1;36m0.02\u001b[0m      \u001b[1;36m1200\u001b[0m\n",
       "       human       \u001b[1;36m0.49\u001b[0m      \u001b[1;36m0.97\u001b[0m      \u001b[1;36m0.65\u001b[0m      \u001b[1;36m1200\u001b[0m\n",
       "\n",
       "    accuracy                           \u001b[1;36m0.49\u001b[0m      \u001b[1;36m2400\u001b[0m\n",
       "   macro avg       \u001b[1;36m0.35\u001b[0m      \u001b[1;36m0.49\u001b[0m      \u001b[1;36m0.34\u001b[0m      \u001b[1;36m2400\u001b[0m\n",
       "weighted avg       \u001b[1;36m0.35\u001b[0m      \u001b[1;36m0.49\u001b[0m      \u001b[1;36m0.34\u001b[0m      \u001b[1;36m2400\u001b[0m\n",
       "\n"
      ]
     },
     "metadata": {},
     "output_type": "display_data"
    },
    {
     "data": {
      "text/html": [
       "<pre style=\"white-space:pre;overflow-x:auto;line-height:normal;font-family:Menlo,'DejaVu Sans Mono',consolas,'Courier New',monospace\"> Result-RoBERTaLaegeOpenAI-Detector :\n",
       "</pre>\n"
      ],
      "text/plain": [
       " Result-RoBERTaLaegeOpenAI-Detector :\n"
      ]
     },
     "metadata": {},
     "output_type": "display_data"
    },
    {
     "data": {
      "text/html": [
       "<pre style=\"white-space:pre;overflow-x:auto;line-height:normal;font-family:Menlo,'DejaVu Sans Mono',consolas,'Courier New',monospace\">              precision    recall  f1-score   support\n",
       "\n",
       "          AI       <span style=\"color: #008080; text-decoration-color: #008080; font-weight: bold\">0.47</span>      <span style=\"color: #008080; text-decoration-color: #008080; font-weight: bold\">0.64</span>      <span style=\"color: #008080; text-decoration-color: #008080; font-weight: bold\">0.54</span>      <span style=\"color: #008080; text-decoration-color: #008080; font-weight: bold\">1200</span>\n",
       "       human       <span style=\"color: #008080; text-decoration-color: #008080; font-weight: bold\">0.44</span>      <span style=\"color: #008080; text-decoration-color: #008080; font-weight: bold\">0.28</span>      <span style=\"color: #008080; text-decoration-color: #008080; font-weight: bold\">0.34</span>      <span style=\"color: #008080; text-decoration-color: #008080; font-weight: bold\">1200</span>\n",
       "\n",
       "    accuracy                           <span style=\"color: #008080; text-decoration-color: #008080; font-weight: bold\">0.46</span>      <span style=\"color: #008080; text-decoration-color: #008080; font-weight: bold\">2400</span>\n",
       "   macro avg       <span style=\"color: #008080; text-decoration-color: #008080; font-weight: bold\">0.45</span>      <span style=\"color: #008080; text-decoration-color: #008080; font-weight: bold\">0.46</span>      <span style=\"color: #008080; text-decoration-color: #008080; font-weight: bold\">0.44</span>      <span style=\"color: #008080; text-decoration-color: #008080; font-weight: bold\">2400</span>\n",
       "weighted avg       <span style=\"color: #008080; text-decoration-color: #008080; font-weight: bold\">0.45</span>      <span style=\"color: #008080; text-decoration-color: #008080; font-weight: bold\">0.46</span>      <span style=\"color: #008080; text-decoration-color: #008080; font-weight: bold\">0.44</span>      <span style=\"color: #008080; text-decoration-color: #008080; font-weight: bold\">2400</span>\n",
       "\n",
       "</pre>\n"
      ],
      "text/plain": [
       "              precision    recall  f1-score   support\n",
       "\n",
       "          AI       \u001b[1;36m0.47\u001b[0m      \u001b[1;36m0.64\u001b[0m      \u001b[1;36m0.54\u001b[0m      \u001b[1;36m1200\u001b[0m\n",
       "       human       \u001b[1;36m0.44\u001b[0m      \u001b[1;36m0.28\u001b[0m      \u001b[1;36m0.34\u001b[0m      \u001b[1;36m1200\u001b[0m\n",
       "\n",
       "    accuracy                           \u001b[1;36m0.46\u001b[0m      \u001b[1;36m2400\u001b[0m\n",
       "   macro avg       \u001b[1;36m0.45\u001b[0m      \u001b[1;36m0.46\u001b[0m      \u001b[1;36m0.44\u001b[0m      \u001b[1;36m2400\u001b[0m\n",
       "weighted avg       \u001b[1;36m0.45\u001b[0m      \u001b[1;36m0.46\u001b[0m      \u001b[1;36m0.44\u001b[0m      \u001b[1;36m2400\u001b[0m\n",
       "\n"
      ]
     },
     "metadata": {},
     "output_type": "display_data"
    },
    {
     "data": {
      "text/html": [
       "<pre style=\"white-space:pre;overflow-x:auto;line-height:normal;font-family:Menlo,'DejaVu Sans Mono',consolas,'Courier New',monospace\"> Result-RuleBased :\n",
       "</pre>\n"
      ],
      "text/plain": [
       " Result-RuleBased :\n"
      ]
     },
     "metadata": {},
     "output_type": "display_data"
    },
    {
     "data": {
      "text/html": [
       "<pre style=\"white-space:pre;overflow-x:auto;line-height:normal;font-family:Menlo,'DejaVu Sans Mono',consolas,'Courier New',monospace\">              precision    recall  f1-score   support\n",
       "\n",
       "          AI       <span style=\"color: #008080; text-decoration-color: #008080; font-weight: bold\">0.55</span>      <span style=\"color: #008080; text-decoration-color: #008080; font-weight: bold\">0.76</span>      <span style=\"color: #008080; text-decoration-color: #008080; font-weight: bold\">0.63</span>      <span style=\"color: #008080; text-decoration-color: #008080; font-weight: bold\">1200</span>\n",
       "       human       <span style=\"color: #008080; text-decoration-color: #008080; font-weight: bold\">0.60</span>      <span style=\"color: #008080; text-decoration-color: #008080; font-weight: bold\">0.37</span>      <span style=\"color: #008080; text-decoration-color: #008080; font-weight: bold\">0.46</span>      <span style=\"color: #008080; text-decoration-color: #008080; font-weight: bold\">1200</span>\n",
       "\n",
       "    accuracy                           <span style=\"color: #008080; text-decoration-color: #008080; font-weight: bold\">0.56</span>      <span style=\"color: #008080; text-decoration-color: #008080; font-weight: bold\">2400</span>\n",
       "   macro avg       <span style=\"color: #008080; text-decoration-color: #008080; font-weight: bold\">0.57</span>      <span style=\"color: #008080; text-decoration-color: #008080; font-weight: bold\">0.56</span>      <span style=\"color: #008080; text-decoration-color: #008080; font-weight: bold\">0.55</span>      <span style=\"color: #008080; text-decoration-color: #008080; font-weight: bold\">2400</span>\n",
       "weighted avg       <span style=\"color: #008080; text-decoration-color: #008080; font-weight: bold\">0.57</span>      <span style=\"color: #008080; text-decoration-color: #008080; font-weight: bold\">0.56</span>      <span style=\"color: #008080; text-decoration-color: #008080; font-weight: bold\">0.55</span>      <span style=\"color: #008080; text-decoration-color: #008080; font-weight: bold\">2400</span>\n",
       "\n",
       "</pre>\n"
      ],
      "text/plain": [
       "              precision    recall  f1-score   support\n",
       "\n",
       "          AI       \u001b[1;36m0.55\u001b[0m      \u001b[1;36m0.76\u001b[0m      \u001b[1;36m0.63\u001b[0m      \u001b[1;36m1200\u001b[0m\n",
       "       human       \u001b[1;36m0.60\u001b[0m      \u001b[1;36m0.37\u001b[0m      \u001b[1;36m0.46\u001b[0m      \u001b[1;36m1200\u001b[0m\n",
       "\n",
       "    accuracy                           \u001b[1;36m0.56\u001b[0m      \u001b[1;36m2400\u001b[0m\n",
       "   macro avg       \u001b[1;36m0.57\u001b[0m      \u001b[1;36m0.56\u001b[0m      \u001b[1;36m0.55\u001b[0m      \u001b[1;36m2400\u001b[0m\n",
       "weighted avg       \u001b[1;36m0.57\u001b[0m      \u001b[1;36m0.56\u001b[0m      \u001b[1;36m0.55\u001b[0m      \u001b[1;36m2400\u001b[0m\n",
       "\n"
      ]
     },
     "metadata": {},
     "output_type": "display_data"
    }
   ],
   "source": [
    "from rich import print\n",
    "results = []\n",
    "\n",
    "for name, df in dataframes_list:\n",
    "    print(f\" {name} :\")\n",
    "    val, dval= result_to_report(df)\n",
    "    results.append(dval)\n",
    "    print(val)"
   ]
  }
 ],
 "metadata": {
  "kernelspec": {
   "display_name": "Python 3",
   "language": "python",
   "name": "python3"
  },
  "language_info": {
   "codemirror_mode": {
    "name": "ipython",
    "version": 3
   },
   "file_extension": ".py",
   "mimetype": "text/x-python",
   "name": "python",
   "nbconvert_exporter": "python",
   "pygments_lexer": "ipython3",
   "version": "3.12.8"
  }
 },
 "nbformat": 4,
 "nbformat_minor": 5
}
