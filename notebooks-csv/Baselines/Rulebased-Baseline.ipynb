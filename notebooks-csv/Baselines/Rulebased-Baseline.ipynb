{
 "cells": [
  {
   "cell_type": "code",
   "execution_count": 29,
   "id": "ef4c83c0",
   "metadata": {},
   "outputs": [],
   "source": [
    "from dotenv import load_dotenv\n",
    "import os\n",
    "from pathlib import Path\n",
    "import json\n",
    "import os\n",
    "import pandas as pd\n",
    "import numpy as np\n",
    "import matplotlib.pyplot as plt\n",
    "import requests"
   ]
  },
  {
   "cell_type": "markdown",
   "id": "80490104",
   "metadata": {},
   "source": [
    "## Load test dataset"
   ]
  },
  {
   "cell_type": "code",
   "execution_count": 30,
   "id": "279fc22c",
   "metadata": {},
   "outputs": [
    {
     "data": {
      "text/html": [
       "<div>\n",
       "<style scoped>\n",
       "    .dataframe tbody tr th:only-of-type {\n",
       "        vertical-align: middle;\n",
       "    }\n",
       "\n",
       "    .dataframe tbody tr th {\n",
       "        vertical-align: top;\n",
       "    }\n",
       "\n",
       "    .dataframe thead th {\n",
       "        text-align: right;\n",
       "    }\n",
       "</style>\n",
       "<table border=\"1\" class=\"dataframe\">\n",
       "  <thead>\n",
       "    <tr style=\"text-align: right;\">\n",
       "      <th></th>\n",
       "      <th>Unnamed: 0</th>\n",
       "      <th>writer</th>\n",
       "      <th>problem_id</th>\n",
       "      <th>submission_id</th>\n",
       "      <th>website</th>\n",
       "      <th>source</th>\n",
       "      <th>dataset_type</th>\n",
       "    </tr>\n",
       "  </thead>\n",
       "  <tbody>\n",
       "    <tr>\n",
       "      <th>0</th>\n",
       "      <td>0</td>\n",
       "      <td>Human</td>\n",
       "      <td>NaN</td>\n",
       "      <td>13688015.0</td>\n",
       "      <td>https://codeforces.com</td>\n",
       "      <td>#include&lt;iostream&gt;\\n#include&lt;cstdio&gt;\\n#include...</td>\n",
       "      <td>test</td>\n",
       "    </tr>\n",
       "    <tr>\n",
       "      <th>1</th>\n",
       "      <td>1</td>\n",
       "      <td>Human</td>\n",
       "      <td>NaN</td>\n",
       "      <td>36590979.0</td>\n",
       "      <td>https://codeforces.com</td>\n",
       "      <td>#include &lt;bits/stdc++.h&gt;\\n\\nusing namespace st...</td>\n",
       "      <td>test</td>\n",
       "    </tr>\n",
       "    <tr>\n",
       "      <th>2</th>\n",
       "      <td>2</td>\n",
       "      <td>AI</td>\n",
       "      <td>1909G</td>\n",
       "      <td>NaN</td>\n",
       "      <td>https://codeforces.com</td>\n",
       "      <td>#include &lt;bits/stdc++.h&gt;\\nusing namespace std;...</td>\n",
       "      <td>test</td>\n",
       "    </tr>\n",
       "    <tr>\n",
       "      <th>3</th>\n",
       "      <td>3</td>\n",
       "      <td>Human</td>\n",
       "      <td>toi7_sewer</td>\n",
       "      <td>305644.0</td>\n",
       "      <td>https://programming.in.th</td>\n",
       "      <td>// YoruoniVamp - VTUBE\\n// Pragma Credit to Di...</td>\n",
       "      <td>test</td>\n",
       "    </tr>\n",
       "    <tr>\n",
       "      <th>4</th>\n",
       "      <td>4</td>\n",
       "      <td>Human</td>\n",
       "      <td>NaN</td>\n",
       "      <td>36539175.0</td>\n",
       "      <td>https://codeforces.com</td>\n",
       "      <td>#include &lt;bits/stdc++.h&gt;\\n// #include &lt;ext/rop...</td>\n",
       "      <td>test</td>\n",
       "    </tr>\n",
       "    <tr>\n",
       "      <th>...</th>\n",
       "      <td>...</td>\n",
       "      <td>...</td>\n",
       "      <td>...</td>\n",
       "      <td>...</td>\n",
       "      <td>...</td>\n",
       "      <td>...</td>\n",
       "      <td>...</td>\n",
       "    </tr>\n",
       "    <tr>\n",
       "      <th>2395</th>\n",
       "      <td>2395</td>\n",
       "      <td>Human</td>\n",
       "      <td>NaN</td>\n",
       "      <td>35426753.0</td>\n",
       "      <td>https://codeforces.com</td>\n",
       "      <td>/**\\n *    author:  skmonir\\n *    created: 17...</td>\n",
       "      <td>test</td>\n",
       "    </tr>\n",
       "    <tr>\n",
       "      <th>2396</th>\n",
       "      <td>2396</td>\n",
       "      <td>AI</td>\n",
       "      <td>1976F</td>\n",
       "      <td>NaN</td>\n",
       "      <td>https://codeforces.com</td>\n",
       "      <td>#include &lt;bits/stdc++.h&gt;\\nusing namespace std;...</td>\n",
       "      <td>test</td>\n",
       "    </tr>\n",
       "    <tr>\n",
       "      <th>2397</th>\n",
       "      <td>2397</td>\n",
       "      <td>AI</td>\n",
       "      <td>272D</td>\n",
       "      <td>NaN</td>\n",
       "      <td>https://codeforces.com</td>\n",
       "      <td>#include &lt;bits/stdc++.h&gt;\\nusing namespace std;...</td>\n",
       "      <td>test</td>\n",
       "    </tr>\n",
       "    <tr>\n",
       "      <th>2398</th>\n",
       "      <td>2398</td>\n",
       "      <td>Human</td>\n",
       "      <td>1112</td>\n",
       "      <td>103903.0</td>\n",
       "      <td>https://programming.in.th</td>\n",
       "      <td>#include&lt;bits/stdc++.h&gt;\\n\\n\\nusing namespace s...</td>\n",
       "      <td>test</td>\n",
       "    </tr>\n",
       "    <tr>\n",
       "      <th>2399</th>\n",
       "      <td>2399</td>\n",
       "      <td>AI</td>\n",
       "      <td>1213E</td>\n",
       "      <td>NaN</td>\n",
       "      <td>https://codeforces.com</td>\n",
       "      <td>#include &lt;iostream&gt;\\n#include &lt;string&gt;\\n#inclu...</td>\n",
       "      <td>test</td>\n",
       "    </tr>\n",
       "  </tbody>\n",
       "</table>\n",
       "<p>2400 rows × 7 columns</p>\n",
       "</div>"
      ],
      "text/plain": [
       "      Unnamed: 0 writer  problem_id  submission_id                    website  \\\n",
       "0              0  Human         NaN     13688015.0     https://codeforces.com   \n",
       "1              1  Human         NaN     36590979.0     https://codeforces.com   \n",
       "2              2     AI       1909G            NaN     https://codeforces.com   \n",
       "3              3  Human  toi7_sewer       305644.0  https://programming.in.th   \n",
       "4              4  Human         NaN     36539175.0     https://codeforces.com   \n",
       "...          ...    ...         ...            ...                        ...   \n",
       "2395        2395  Human         NaN     35426753.0     https://codeforces.com   \n",
       "2396        2396     AI       1976F            NaN     https://codeforces.com   \n",
       "2397        2397     AI        272D            NaN     https://codeforces.com   \n",
       "2398        2398  Human        1112       103903.0  https://programming.in.th   \n",
       "2399        2399     AI       1213E            NaN     https://codeforces.com   \n",
       "\n",
       "                                                 source dataset_type  \n",
       "0     #include<iostream>\\n#include<cstdio>\\n#include...         test  \n",
       "1     #include <bits/stdc++.h>\\n\\nusing namespace st...         test  \n",
       "2     #include <bits/stdc++.h>\\nusing namespace std;...         test  \n",
       "3     // YoruoniVamp - VTUBE\\n// Pragma Credit to Di...         test  \n",
       "4     #include <bits/stdc++.h>\\n// #include <ext/rop...         test  \n",
       "...                                                 ...          ...  \n",
       "2395  /**\\n *    author:  skmonir\\n *    created: 17...         test  \n",
       "2396  #include <bits/stdc++.h>\\nusing namespace std;...         test  \n",
       "2397  #include <bits/stdc++.h>\\nusing namespace std;...         test  \n",
       "2398  #include<bits/stdc++.h>\\n\\n\\nusing namespace s...         test  \n",
       "2399  #include <iostream>\\n#include <string>\\n#inclu...         test  \n",
       "\n",
       "[2400 rows x 7 columns]"
      ]
     },
     "execution_count": 30,
     "metadata": {},
     "output_type": "execute_result"
    }
   ],
   "source": [
    "test_df = pd.read_csv('../Splits/combined/sub_test.csv')\n",
    "# test_df = pd.read_csv('../Splits/harder_test/sub_test.csv')\n",
    "test_df"
   ]
  },
  {
   "cell_type": "code",
   "execution_count": 31,
   "id": "719e1519",
   "metadata": {},
   "outputs": [
    {
     "data": {
      "text/plain": [
       "'#include<iostream>\\n#include<cstdio>\\n#include<cstring>\\n#include<algorithm>\\n#include<cmath>\\nusing namespace std;\\nconst int N=1111;\\nstruct node\\n{\\n int t,s,f,flag;\\n}a[N];\\nint main()\\n{\\n int n;\\n cin>>n;\\n for(int i=1;i<=n;++i)\\n {\\n  cin>>a[i].t>>a[i].s>>a[i].f;\\n  a[i].flag=0;\\n  if(a[i].s>a[i].f)a[i].flag=1;\\n }\\n for(int i=1;i<=n;++i)\\n {\\n  int ans=0;\\n  for(int j=1;j<=n;++j)\\n  {\\n   if(i==j)continue;\\n   if(a[i].flag==a[j].flag)\\n   {\\n    if(a[i].t==a[j].t)\\n    {\\n     if(a[i].s==a[j].s)ans++;\\n     continue;\\n    }\\n    int tmp=0;\\n    if(a[i].t>a[j].t)tmp=1;\\n    if(tmp)swap(a[i],a[j]);\\n    if(a[i].flag==0)\\n    {\\n     int p=a[i].s+a[j].t-a[i].t;\\n     if(p<=a[i].f&&p==a[j].s)ans++;\\n    }\\n    else\\n    {\\n     int p=a[i].s-(a[j].t-a[i].t);\\n     if(p>=a[i].f&&p==a[j].s)ans++;\\n    }\\n    if(tmp)swap(a[i],a[j]);\\n   }\\n   else \\n   {\\n    int tmp=0;\\n    if(a[i].t>a[j].t)tmp=1;\\n    if(tmp)swap(a[i],a[j]);\\n    int ok=0;\\n    if(a[i].flag==0)\\n    {\\n     int p=a[i].s+(a[j].t-a[i].t);\\n     double m=(p+a[j].s)/2;\\n     if(m>=a[i].s&&m<=a[i].f&&m<=a[j].s&&m>=a[j].f)ok=1;\\n    }\\n    else\\n    {\\n     int p=a[i].s-(a[j].t-a[i].t);\\n     double m=(p+a[j].s)/2;\\n     if(m<=a[i].s&&m>=a[i].f&&m>=a[j].s&&m<=a[j].f)ok=1;\\n    }\\n    if(ok)ans++;\\n    if(tmp)swap(a[i],a[j]);\\n   }\\n  }\\n  cout<<ans<<\" \";\\n }\\n return 0;\\n}'"
      ]
     },
     "execution_count": 31,
     "metadata": {},
     "output_type": "execute_result"
    }
   ],
   "source": [
    "test_df['source'][0]"
   ]
  },
  {
   "cell_type": "code",
   "execution_count": 32,
   "id": "b744d42a",
   "metadata": {},
   "outputs": [
    {
     "data": {
      "text/plain": [
       "'Consistent formatting detected (uniform indentation), which is often a trait of AI-generated code. Specific, context-aware variable names detected, which is more typical of human-written code. No comments found in the code. AI-generated code often lacks comments. Repetitive patterns found in the code, which can be a sign of AI generation. Overly structured code detected (e.g., repeated if-else or loops), which might indicate AI involvement. Simpler code detected, which could indicate AI generation.'"
      ]
     },
     "execution_count": 32,
     "metadata": {},
     "output_type": "execute_result"
    }
   ],
   "source": [
    "url = \"http://localhost:59875/analyze\"\n",
    "response = requests.post(url, json={\"code\":test_df['source'][0]})\n",
    "\" \".join(json.loads(response.text)['details'])"
   ]
  },
  {
   "cell_type": "code",
   "execution_count": 33,
   "id": "edebf320",
   "metadata": {},
   "outputs": [],
   "source": [
    "responses = []\n",
    "err_logs = []\n",
    "url = \"http://localhost:59875/analyze\"\n",
    "from rich import print\n",
    "\n",
    "from IPython.display import clear_output\n",
    "for index, row in test_df.iterrows():\n",
    "  source = row['source']\n",
    "  print(f\"ASKED : {index}\")\n",
    "  try:\n",
    "    response = requests.post(url, json={\"code\":source})\n",
    "    clear_output()\n",
    "    data = json.loads(response.text)\n",
    "    responses.append(data)\n",
    "  except Exception as e:\n",
    "    clear_output()\n",
    "    err_logs.append((index,e))\n",
    "    print(f\"ERROR at {index} : {e}\")\n",
    "\n",
    "  "
   ]
  },
  {
   "cell_type": "code",
   "execution_count": 34,
   "id": "b274b3ca",
   "metadata": {},
   "outputs": [
    {
     "data": {
      "text/plain": [
       "[]"
      ]
     },
     "execution_count": 34,
     "metadata": {},
     "output_type": "execute_result"
    }
   ],
   "source": [
    "err_logs"
   ]
  },
  {
   "cell_type": "code",
   "execution_count": 35,
   "id": "cb0428e6",
   "metadata": {},
   "outputs": [
    {
     "name": "stderr",
     "output_type": "stream",
     "text": [
      "C:\\Users\\Pakin\\AppData\\Local\\Temp\\ipykernel_31520\\2693926148.py:6: SettingWithCopyWarning: \n",
      "A value is trying to be set on a copy of a slice from a DataFrame.\n",
      "Try using .loc[row_indexer,col_indexer] = value instead\n",
      "\n",
      "See the caveats in the documentation: https://pandas.pydata.org/pandas-docs/stable/user_guide/indexing.html#returning-a-view-versus-a-copy\n",
      "  answer_df['answer_text'] = responses\n"
     ]
    }
   ],
   "source": [
    "import re\n",
    "import json\n",
    "\n",
    "result_n = len(responses)\n",
    "answer_df = test_df.iloc[:result_n]\n",
    "answer_df['answer_text'] = responses"
   ]
  },
  {
   "cell_type": "code",
   "execution_count": 36,
   "id": "b3b32b9e",
   "metadata": {},
   "outputs": [
    {
     "name": "stderr",
     "output_type": "stream",
     "text": [
      "C:\\Users\\Pakin\\AppData\\Local\\Temp\\ipykernel_31520\\319285290.py:1: SettingWithCopyWarning: \n",
      "A value is trying to be set on a copy of a slice from a DataFrame.\n",
      "Try using .loc[row_indexer,col_indexer] = value instead\n",
      "\n",
      "See the caveats in the documentation: https://pandas.pydata.org/pandas-docs/stable/user_guide/indexing.html#returning-a-view-versus-a-copy\n",
      "  answer_df['model_answer'] = answer_df['answer_text'].apply(lambda x: x['evaluate'])\n",
      "C:\\Users\\Pakin\\AppData\\Local\\Temp\\ipykernel_31520\\319285290.py:2: SettingWithCopyWarning: \n",
      "A value is trying to be set on a copy of a slice from a DataFrame.\n",
      "Try using .loc[row_indexer,col_indexer] = value instead\n",
      "\n",
      "See the caveats in the documentation: https://pandas.pydata.org/pandas-docs/stable/user_guide/indexing.html#returning-a-view-versus-a-copy\n",
      "  answer_df['model_reason'] = answer_df['answer_text'].apply(lambda x: \" \".join(x['details']))\n",
      "C:\\Users\\Pakin\\AppData\\Local\\Temp\\ipykernel_31520\\319285290.py:3: SettingWithCopyWarning: \n",
      "A value is trying to be set on a copy of a slice from a DataFrame.\n",
      "Try using .loc[row_indexer,col_indexer] = value instead\n",
      "\n",
      "See the caveats in the documentation: https://pandas.pydata.org/pandas-docs/stable/user_guide/indexing.html#returning-a-view-versus-a-copy\n",
      "  answer_df['verdict'] = answer_df['writer'] == answer_df['model_answer']\n"
     ]
    }
   ],
   "source": [
    "answer_df['model_answer'] = answer_df['answer_text'].apply(lambda x: x['evaluate'])\n",
    "answer_df['model_reason'] = answer_df['answer_text'].apply(lambda x: \" \".join(x['details']))\n",
    "answer_df['verdict'] = answer_df['writer'] == answer_df['model_answer']\n",
    "answer_df = answer_df[['writer','model_answer','verdict','model_reason','website','source']]"
   ]
  },
  {
   "cell_type": "code",
   "execution_count": 37,
   "id": "97824a3f",
   "metadata": {},
   "outputs": [],
   "source": [
    "filtered_df = pd.DataFrame()\n",
    "filtered_df[['Label','Model_Answer','Verdict','Reason','Website']] = answer_df[['writer','model_answer','verdict','model_reason','website']]"
   ]
  },
  {
   "cell_type": "code",
   "execution_count": 38,
   "id": "a7fd3294",
   "metadata": {},
   "outputs": [],
   "source": [
    "filtered_df['Label'] = filtered_df['Label'].replace('Human', 'human')\n",
    "filtered_df['Model_Answer'] = filtered_df['Model_Answer'].replace('Human', 'human')\n",
    "filtered_df['Verdict'] = filtered_df['Label']==filtered_df['Model_Answer']"
   ]
  },
  {
   "cell_type": "code",
   "execution_count": 39,
   "id": "eb44c9a6",
   "metadata": {},
   "outputs": [
    {
     "data": {
      "text/plain": [
       "(Label\n",
       " human    1200\n",
       " AI       1200\n",
       " Name: count, dtype: int64,\n",
       " Model_Answer\n",
       " AI       1663\n",
       " human     737\n",
       " Name: count, dtype: int64)"
      ]
     },
     "execution_count": 39,
     "metadata": {},
     "output_type": "execute_result"
    }
   ],
   "source": [
    "filtered_df['Label'].value_counts(), filtered_df['Model_Answer'].value_counts()"
   ]
  },
  {
   "cell_type": "code",
   "execution_count": 40,
   "id": "650eef90",
   "metadata": {},
   "outputs": [],
   "source": [
    "filtered_df.to_csv(\"./Results/Normal/Result-RuleBased.csv\",index=False)"
   ]
  },
  {
   "cell_type": "code",
   "execution_count": 41,
   "id": "747a4527",
   "metadata": {},
   "outputs": [
    {
     "data": {
      "text/html": [
       "<pre style=\"white-space:pre;overflow-x:auto;line-height:normal;font-family:Menlo,'DejaVu Sans Mono',consolas,'Courier New',monospace\">AUC : <span style=\"color: #008080; text-decoration-color: #008080; font-weight: bold\">0.56375</span>\n",
       "</pre>\n"
      ],
      "text/plain": [
       "AUC : \u001b[1;36m0.56375\u001b[0m\n"
      ]
     },
     "metadata": {},
     "output_type": "display_data"
    }
   ],
   "source": [
    "accuracy = filtered_df['Verdict'].value_counts(normalize=True).get(True, 0)\n",
    "print(f\"AUC : {accuracy}\")"
   ]
  }
 ],
 "metadata": {
  "kernelspec": {
   "display_name": "Python 3",
   "language": "python",
   "name": "python3"
  },
  "language_info": {
   "codemirror_mode": {
    "name": "ipython",
    "version": 3
   },
   "file_extension": ".py",
   "mimetype": "text/x-python",
   "name": "python",
   "nbconvert_exporter": "python",
   "pygments_lexer": "ipython3",
   "version": "3.12.8"
  }
 },
 "nbformat": 4,
 "nbformat_minor": 5
}
