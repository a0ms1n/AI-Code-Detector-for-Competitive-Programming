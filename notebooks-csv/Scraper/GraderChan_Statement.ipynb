{
 "cells": [
  {
   "cell_type": "code",
   "execution_count": 1,
   "id": "ddee44f4",
   "metadata": {},
   "outputs": [],
   "source": [
    "from selenium import webdriver\n",
    "from selenium.webdriver.common.by import By\n",
    "from selenium.webdriver.chrome.service import Service\n",
    "from selenium.webdriver.chrome.options import Options\n",
    "import asyncio\n",
    "import time\n",
    "from concurrent.futures import ThreadPoolExecutor\n",
    "from selenium.webdriver.support.ui import WebDriverWait\n",
    "from selenium.webdriver.support import expected_conditions as EC\n",
    "import pandas as pd\n",
    "\n",
    "# Configure Selenium WebDriver\n",
    "def setup_driver(silent=False):\n",
    "    options = Options()\n",
    "    if silent:\n",
    "        options.add_argument(\"--headless\")\n",
    "    service = Service()\n",
    "    driver = webdriver.Chrome(service=service, options=options)\n",
    "    return driver"
   ]
  },
  {
   "cell_type": "code",
   "execution_count": 4,
   "id": "bd0f845c",
   "metadata": {},
   "outputs": [],
   "source": [
    "async def scrape_page(page_number: int = 1):\n",
    "    def blocking_scrape():\n",
    "        driver = setup_driver(False)\n",
    "        driver.get(\"https://firefly.gchan.moe/problemset\")\n",
    "        element = driver.find_element(By.XPATH, \"//button[contains(@class, 'datatable-pagination-list-item-link') and normalize-space(text())='›']\")\n",
    "        for i in range(page_number - 1):\n",
    "            element.click()\n",
    "            time.sleep(0.2)  \n",
    "        time.sleep(0.3)  \n",
    "        pdfURLs = []\n",
    "        for url in driver.find_elements(By.XPATH, \"//div[@class='datatable-container']//a[@href]\"):\n",
    "            pdfURLs.append(url.get_attribute(\"href\")+\"/statement\")\n",
    "        driver.quit()\n",
    "        print(pdfURLs)\n",
    "        return pdfURLs\n",
    "    return await asyncio.to_thread(blocking_scrape)"
   ]
  },
  {
   "cell_type": "code",
   "execution_count": 5,
   "id": "e008de70",
   "metadata": {},
   "outputs": [],
   "source": [
    "async def get_url():\n",
    "    # First batch: pages 1 to 5\n",
    "    tasks_batch_1 = [scrape_page(page_number) for page_number in range(1, 6)]\n",
    "    results_batch_1 = await asyncio.gather(*tasks_batch_1)\n",
    "    tasks_batch_2 = [scrape_page(page_number) for page_number in range(6, 11)]\n",
    "    results_batch_2 = await asyncio.gather(*tasks_batch_2)\n",
    "    all_links = [link for result in (results_batch_1 + results_batch_2) for link in result]\n",
    "    return all_links"
   ]
  },
  {
   "cell_type": "code",
   "execution_count": 6,
   "id": "e725195d",
   "metadata": {},
   "outputs": [
    {
     "name": "stdout",
     "output_type": "stream",
     "text": [
      "['https://firefly.gchan.moe/problemset/c1_bkk67_2/statement', 'https://firefly.gchan.moe/problemset/c1_bkk67_3/statement', 'https://firefly.gchan.moe/problemset/c1_bkk67_4/statement', 'https://firefly.gchan.moe/problemset/c1_bkk67_5/statement', 'https://firefly.gchan.moe/problemset/c1_su63_anagram1/statement', 'https://firefly.gchan.moe/problemset/c1_su63_anagram2/statement', 'https://firefly.gchan.moe/problemset/c1_su63_arrayexp1/statement', 'https://firefly.gchan.moe/problemset/c1_su63_arrayexp2/statement', 'https://firefly.gchan.moe/problemset/c1_su63_auction/statement', 'https://firefly.gchan.moe/problemset/c1_su63_luckypair/statement', 'https://firefly.gchan.moe/problemset/c1_su63_nametitle/statement', 'https://firefly.gchan.moe/problemset/c1_su66_isbn/statement', 'https://firefly.gchan.moe/problemset/c1_su66_matrixsym/statement', 'https://firefly.gchan.moe/problemset/c1_su66_permutation/statement', 'https://firefly.gchan.moe/problemset/c1_su66_rangeandmean/statement', 'https://firefly.gchan.moe/problemset/c1_su66_slowlyexpress/statement', 'https://firefly.gchan.moe/problemset/c1_su66_topright/statement', 'https://firefly.gchan.moe/problemset/c1_su67_flood/statement', 'https://firefly.gchan.moe/problemset/c1_su67_last_prime/statement', 'https://firefly.gchan.moe/problemset/c1_su67_maneuver/statement']['https://firefly.gchan.moe/problemset/abacus/statement', 'https://firefly.gchan.moe/problemset/adjacency_list/statement', 'https://firefly.gchan.moe/problemset/amogus/statement', 'https://firefly.gchan.moe/problemset/bookshelf/statement', 'https://firefly.gchan.moe/problemset/c1_bkk60_1/statement', 'https://firefly.gchan.moe/problemset/c1_bkk60_2/statement', 'https://firefly.gchan.moe/problemset/c1_bkk60_3/statement', 'https://firefly.gchan.moe/problemset/c1_bkk60_4/statement', 'https://firefly.gchan.moe/problemset/c1_bkk64_1/statement', 'https://firefly.gchan.moe/problemset/c1_bkk64_2/statement', 'https://firefly.gchan.moe/problemset/c1_bkk64_3/statement', 'https://firefly.gchan.moe/problemset/c1_bkk64_4/statement', 'https://firefly.gchan.moe/problemset/c1_bkk64_5/statement', 'https://firefly.gchan.moe/problemset/c1_bkk64_6/statement', 'https://firefly.gchan.moe/problemset/c1_bkk66_1/statement', 'https://firefly.gchan.moe/problemset/c1_bkk66_2/statement', 'https://firefly.gchan.moe/problemset/c1_bkk66_3/statement', 'https://firefly.gchan.moe/problemset/c1_bkk66_4/statement', 'https://firefly.gchan.moe/problemset/c1_bkk66_5/statement', 'https://firefly.gchan.moe/problemset/c1_bkk67_1/statement']\n",
      "\n",
      "['https://firefly.gchan.moe/problemset/c1_su67_othello/statement', 'https://firefly.gchan.moe/problemset/c1_su67_path_finding/statement', 'https://firefly.gchan.moe/problemset/c1_su67_signal_graph/statement', 'https://firefly.gchan.moe/problemset/c1_sut67_cleaning/statement', 'https://firefly.gchan.moe/problemset/c1_sut67_data_eng/statement', 'https://firefly.gchan.moe/problemset/c1_sut67_strobogrammatic/statement', 'https://firefly.gchan.moe/problemset/c2_ds66_3m/statement', 'https://firefly.gchan.moe/problemset/c2_ds66_dolphin/statement', 'https://firefly.gchan.moe/problemset/c2_ds66_rest/statement', 'https://firefly.gchan.moe/problemset/c2_ds66_train/statement', 'https://firefly.gchan.moe/problemset/c2_knb64_anna/statement', 'https://firefly.gchan.moe/problemset/c2_knb64_fireball/statement', 'https://firefly.gchan.moe/problemset/c2_knb64_forex/statement', 'https://firefly.gchan.moe/problemset/c2_knb64_laracroft/statement', 'https://firefly.gchan.moe/problemset/c2_knb64_rattaban/statement', 'https://firefly.gchan.moe/problemset/c2_knb64_tree/statement', 'https://firefly.gchan.moe/problemset/c2_st65_knight/statement', 'https://firefly.gchan.moe/problemset/c2_st66_freeday/statement', 'https://firefly.gchan.moe/problemset/c2_st66_heroes/statement', 'https://firefly.gchan.moe/problemset/c2_st66_intersection/statement']\n",
      "['https://firefly.gchan.moe/problemset/c2_st66_justify/statement', 'https://firefly.gchan.moe/problemset/c2_st66_largest_island/statement', 'https://firefly.gchan.moe/problemset/c2_st66_stock/statement', 'https://firefly.gchan.moe/problemset/c2_su65_baseconv/statement', 'https://firefly.gchan.moe/problemset/c2_su65_chocolate/statement', 'https://firefly.gchan.moe/problemset/c2_su65_consub/statement', 'https://firefly.gchan.moe/problemset/c2_su65_delivery/statement', 'https://firefly.gchan.moe/problemset/c2_su65_dvaravati/statement', 'https://firefly.gchan.moe/problemset/c2_su65_foolcomp/statement', 'https://firefly.gchan.moe/problemset/c2_su65_maxadj/statement', 'https://firefly.gchan.moe/problemset/c2_su67_corretc/statement', 'https://firefly.gchan.moe/problemset/c2_su67_forbidden/statement', 'https://firefly.gchan.moe/problemset/c2_su67_happiness/statement', 'https://firefly.gchan.moe/problemset/c2_su67_hindex/statement', 'https://firefly.gchan.moe/problemset/c2_su67_looper/statement', 'https://firefly.gchan.moe/problemset/c2_su67_twotowers/statement', 'https://firefly.gchan.moe/problemset/c2_sut66_bridge/statement', 'https://firefly.gchan.moe/problemset/c2_sut66_dyck/statement', 'https://firefly.gchan.moe/problemset/c2_sut66_permutation/statement', 'https://firefly.gchan.moe/problemset/caramel/statement']\n",
      "['https://firefly.gchan.moe/problemset/electrician/statement', 'https://firefly.gchan.moe/problemset/eoic12_allspark/statement', 'https://firefly.gchan.moe/problemset/eoic12_army/statement', 'https://firefly.gchan.moe/problemset/eoic12_dust/statement', 'https://firefly.gchan.moe/problemset/eoic12_foodpipe/statement', 'https://firefly.gchan.moe/problemset/eoic12_randomh/statement', 'https://firefly.gchan.moe/problemset/eoic12_turnon/statement', 'https://firefly.gchan.moe/problemset/expo/statement', 'https://firefly.gchan.moe/problemset/factor/statement', 'https://firefly.gchan.moe/problemset/gc01_circle_area/statement', 'https://firefly.gchan.moe/problemset/gc01_comet/statement', 'https://firefly.gchan.moe/problemset/gc01_naisirasira/statement', 'https://firefly.gchan.moe/problemset/gc01_ninek/statement', 'https://firefly.gchan.moe/problemset/gc01_peachpin/statement', 'https://firefly.gchan.moe/problemset/gc01_quickmath/statement', 'https://firefly.gchan.moe/problemset/gc01_sort_number/statement', 'https://firefly.gchan.moe/problemset/gc01_thinksol/statement', 'https://firefly.gchan.moe/problemset/gc01_ueka_battle/statement', 'https://firefly.gchan.moe/problemset/gc01_weird_pp/statement', 'https://firefly.gchan.moe/problemset/gc02_drunk/statement']\n",
      "['https://firefly.gchan.moe/problemset/gc02_kingdom/statement', 'https://firefly.gchan.moe/problemset/gc02_lovesick/statement', 'https://firefly.gchan.moe/problemset/gc02_shuffle/statement', 'https://firefly.gchan.moe/problemset/gc02_sixzero/statement', 'https://firefly.gchan.moe/problemset/harbour_cruise/statement', 'https://firefly.gchan.moe/problemset/ice_cream/statement', 'https://firefly.gchan.moe/problemset/ku01_63f1_diverse/statement', 'https://firefly.gchan.moe/problemset/ku01_63f2_lights/statement', 'https://firefly.gchan.moe/problemset/ku01_63f3_beams/statement', 'https://firefly.gchan.moe/problemset/ku01_63f4_buckets/statement', 'https://firefly.gchan.moe/problemset/ku01_63f5_stairs/statement', 'https://firefly.gchan.moe/problemset/ku01_63o1_bird/statement', 'https://firefly.gchan.moe/problemset/ku01_63o1_piramid/statement', 'https://firefly.gchan.moe/problemset/ku01_63o1_robotfactory/statement', 'https://firefly.gchan.moe/problemset/ku01_63o2_bread/statement', 'https://firefly.gchan.moe/problemset/ku01_63o2_castle/statement', 'https://firefly.gchan.moe/problemset/ku01_63o2_queue/statement', 'https://firefly.gchan.moe/problemset/ku01_63o3_drones/statement', 'https://firefly.gchan.moe/problemset/ku01_63o3_flowers/statement', 'https://firefly.gchan.moe/problemset/ku01_63o3_under/statement']\n",
      "['https://firefly.gchan.moe/problemset/ku01_64o1_balance/statement', 'https://firefly.gchan.moe/problemset/ku01_64o1_minmax/statement', 'https://firefly.gchan.moe/problemset/ku01_64o1_pod/statement', 'https://firefly.gchan.moe/problemset/ku01_64o1_running/statement', 'https://firefly.gchan.moe/problemset/ku01_64o2_bowls/statement', 'https://firefly.gchan.moe/problemset/ku01_64o2_broken/statement', 'https://firefly.gchan.moe/problemset/ku01_64o2_hiking/statement', 'https://firefly.gchan.moe/problemset/ku01_64o2_many/statement', 'https://firefly.gchan.moe/problemset/ku01_64o3_jobs/statement', 'https://firefly.gchan.moe/problemset/ku01_64o3_newyearlights/statement', 'https://firefly.gchan.moe/problemset/ku01_64o3_next/statement', 'https://firefly.gchan.moe/problemset/ku01_64o3_pieces/statement', 'https://firefly.gchan.moe/problemset/ku01_64o4_diag/statement', 'https://firefly.gchan.moe/problemset/ku01_64o4_dnafactory/statement', 'https://firefly.gchan.moe/problemset/ku01_64o4_table/statement', 'https://firefly.gchan.moe/problemset/ku01_64o4_thief/statement', 'https://firefly.gchan.moe/problemset/ku01_64o5_altnecklace/statement', 'https://firefly.gchan.moe/problemset/ku01_64o5_altwalk/statement', 'https://firefly.gchan.moe/problemset/ku01_64o5_company/statement', 'https://firefly.gchan.moe/problemset/ku01_64o5_spotlight/statement']\n",
      "['https://firefly.gchan.moe/problemset/ku01_64o6_bigsquare/statement', 'https://firefly.gchan.moe/problemset/ku01_64o6_packing/statement', 'https://firefly.gchan.moe/problemset/ku01_64o6_trucks/statement', 'https://firefly.gchan.moe/problemset/ku01_64o6_water/statement', 'https://firefly.gchan.moe/problemset/ku01_65f1_distinct/statement', 'https://firefly.gchan.moe/problemset/ku01_65f2_cars/statement', 'https://firefly.gchan.moe/problemset/ku01_65f3_findtable/statement', 'https://firefly.gchan.moe/problemset/ku01_65f4_shipment/statement', 'https://firefly.gchan.moe/problemset/ku01_65f5_depth/statement', 'https://firefly.gchan.moe/problemset/ku01_65o1_migrations/statement', 'https://firefly.gchan.moe/problemset/ku01_65o1_numcode/statement', 'https://firefly.gchan.moe/problemset/ku01_65o1_sumprimes/statement', 'https://firefly.gchan.moe/problemset/ku01_65o2_compet/statement', 'https://firefly.gchan.moe/problemset/ku01_65o2_slide/statement', 'https://firefly.gchan.moe/problemset/ku01_65o2_woods/statement', 'https://firefly.gchan.moe/problemset/ku01_65o3_circle/statement', 'https://firefly.gchan.moe/problemset/ku01_65o3_fence/statement', 'https://firefly.gchan.moe/problemset/ku01_65o3_forward/statement', 'https://firefly.gchan.moe/problemset/light_sign/statement', 'https://firefly.gchan.moe/problemset/medulla/statement']\n",
      "['https://firefly.gchan.moe/problemset/mountain/statement', 'https://firefly.gchan.moe/problemset/nostalgia_v2/statement', 'https://firefly.gchan.moe/problemset/optimal_placement/statement', 'https://firefly.gchan.moe/problemset/range_sum_easy/statement', 'https://firefly.gchan.moe/problemset/range_sum_hard/statement', 'https://firefly.gchan.moe/problemset/range_sum_medium/statement', 'https://firefly.gchan.moe/problemset/reverse/statement', 'https://firefly.gchan.moe/problemset/ricochet/statement', 'https://firefly.gchan.moe/problemset/rune/statement', 'https://firefly.gchan.moe/problemset/sirabyrinth_1/statement', 'https://firefly.gchan.moe/problemset/sirabyrinth_2/statement', 'https://firefly.gchan.moe/problemset/sirabyrinth_3/statement', 'https://firefly.gchan.moe/problemset/sirabyrinth_4/statement', 'https://firefly.gchan.moe/problemset/sirabyrinth_5/statement', 'https://firefly.gchan.moe/problemset/sirabyrinth_6/statement', 'https://firefly.gchan.moe/problemset/snacks_easy/statement', 'https://firefly.gchan.moe/problemset/snacks_hard/statement', 'https://firefly.gchan.moe/problemset/stock/statement', 'https://firefly.gchan.moe/problemset/traveller/statement', 'https://firefly.gchan.moe/problemset/watch_vtuber/statement']\n",
      "['https://firefly.gchan.moe/problemset/zombie/statement']\n"
     ]
    }
   ],
   "source": [
    "urls = await get_url()\n",
    "df = pd.DataFrame(urls, columns=[\"ProblemURL\"])\n",
    "df.to_csv(\"graderchan.csv\", index=False)"
   ]
  }
 ],
 "metadata": {
  "kernelspec": {
   "display_name": "Python 3",
   "language": "python",
   "name": "python3"
  },
  "language_info": {
   "codemirror_mode": {
    "name": "ipython",
    "version": 3
   },
   "file_extension": ".py",
   "mimetype": "text/x-python",
   "name": "python",
   "nbconvert_exporter": "python",
   "pygments_lexer": "ipython3",
   "version": "3.12.8"
  }
 },
 "nbformat": 4,
 "nbformat_minor": 5
}
