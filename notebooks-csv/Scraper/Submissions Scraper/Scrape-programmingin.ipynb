{
 "cells": [
  {
   "cell_type": "code",
   "execution_count": 1,
   "id": "456e77ae",
   "metadata": {},
   "outputs": [],
   "source": [
    "from selenium import webdriver\n",
    "from selenium.webdriver.common.by import By\n",
    "from selenium.webdriver.chrome.service import Service\n",
    "from selenium.webdriver.chrome.options import Options\n",
    "import asyncio\n",
    "import time\n",
    "from concurrent.futures import ThreadPoolExecutor\n",
    "from selenium.webdriver.support.ui import WebDriverWait\n",
    "from selenium.webdriver.support import expected_conditions as EC\n",
    "import pandas as pd\n",
    "\n",
    "def setup_driver(silent=False):\n",
    "    options = Options()\n",
    "    if silent:\n",
    "        options.add_argument(\"--headless\")\n",
    "    service = Service()\n",
    "    driver = webdriver.Chrome(service=service, options=options)\n",
    "    return driver"
   ]
  },
  {
   "cell_type": "code",
   "execution_count": 2,
   "id": "f18966dd",
   "metadata": {},
   "outputs": [],
   "source": [
    "import requests\n",
    "from bs4 import BeautifulSoup\n",
    "import asyncio"
   ]
  },
  {
   "cell_type": "code",
   "execution_count": 3,
   "id": "e274256a",
   "metadata": {},
   "outputs": [],
   "source": [
    "def submission_url(id :int):\n",
    "    return f\"https://programming.in.th/submissions/{id}\""
   ]
  },
  {
   "cell_type": "code",
   "execution_count": 4,
   "id": "648e6754",
   "metadata": {},
   "outputs": [],
   "source": [
    "from selenium.webdriver.remote.webelement import WebElement\n",
    "from selenium.webdriver.common.by import By\n",
    "\n",
    "def code_elementline_to_codeline(element: WebElement) -> str:\n",
    "    spans = element.find_elements(By.XPATH, './/span')\n",
    "    return ''.join(span.text for span in spans)\n",
    "\n",
    "def combined_code_element(elements: list[WebElement]) -> str:\n",
    "    return '\\n'.join(map(code_elementline_to_codeline, elements))"
   ]
  },
  {
   "cell_type": "code",
   "execution_count": 5,
   "id": "fd2a15f7",
   "metadata": {},
   "outputs": [],
   "source": [
    "def extract_data_from_html(html: str, submission_id: int) -> dict:\n",
    "    soup = BeautifulSoup(html, 'html.parser')\n",
    "    score_tag = soup.find('p', class_='mt-2 text-xs text-gray-500 dark:text-gray-200')\n",
    "    score = score_tag.text.strip() if score_tag else \"\"\n",
    "    status_tags = soup.find_all('p', class_='text-center text-sm font-medium text-gray-500 dark:text-white')\n",
    "    status = status_tags[0].text.strip() if len(status_tags) > 0 else \"\"\n",
    "    language = status_tags[1].text.strip() if len(status_tags) > 1 else \"\"\n",
    "    problem_tag = soup.find('p', class_='mt-1 h-5 w-full font-light dark:text-white')\n",
    "    problem_id = problem_tag.text.strip() if problem_tag else \"\"\n",
    "    username = soup.find_all('p',class_=\"truncate text-center text-sm font-medium text-gray-500 dark:text-white\")[0].text\n",
    "    code_lines = []\n",
    "    for line in soup.find_all('tr', class_='token-line'):\n",
    "        spans = line.find_all('span')\n",
    "        code_line = ''.join(span.get_text() for span in spans)\n",
    "        code_lines.append(code_line)\n",
    "    code_text = '\\n'.join(code_lines)\n",
    "\n",
    "    return {\n",
    "        'User': username,\n",
    "        'SubmissionID': submission_id,\n",
    "        'ProblemURL': problem_id,\n",
    "        'Score': score,\n",
    "        'Language': language,\n",
    "        'Source': code_text\n",
    "    }"
   ]
  },
  {
   "cell_type": "code",
   "execution_count": 6,
   "id": "5678e9b4",
   "metadata": {},
   "outputs": [],
   "source": [
    "from rich import print\n",
    "\n",
    "async def read_submission(ids: list[int]):\n",
    "    driver = setup_driver(True)\n",
    "    def blocking_scrape():\n",
    "        df = pd.DataFrame(columns=['SubmissionID', 'ProblemURL', 'Score', 'Language', 'Source'])\n",
    "        print(f\"Start from {ids[0]} to {ids[-1]}\")\n",
    "        for i, submission_id in enumerate(ids):\n",
    "            try:\n",
    "                driver.get(submission_url(submission_id))\n",
    "                time.sleep(0.5)\n",
    "                WebDriverWait(driver, 5).until(\n",
    "                    EC.presence_of_element_located((By.XPATH, '//tr[@class=\"token-line\"]'))\n",
    "                )\n",
    "                html = driver.page_source\n",
    "                row = extract_data_from_html(html, submission_id)\n",
    "\n",
    "                if submission_id % 100 == 0:\n",
    "                    print(submission_id,end=' ')\n",
    "\n",
    "                df = pd.concat([df, pd.DataFrame([row])], ignore_index=True)\n",
    "\n",
    "            except Exception as e:\n",
    "                print(f\"[red]Error at ID {submission_id}:[/red]\",end=' ')\n",
    "                continue\n",
    "\n",
    "        driver.quit()\n",
    "        return df\n",
    "    return await asyncio.to_thread(blocking_scrape)"
   ]
  },
  {
   "cell_type": "code",
   "execution_count": 11,
   "id": "a189348e",
   "metadata": {},
   "outputs": [],
   "source": [
    "def get_batches(start_id,end_id):\n",
    "    end_id = min(344951,end_id)\n",
    "    num_batches = 5\n",
    "    batch_size = (end_id - start_id + 1) // num_batches\n",
    "    batches = [\n",
    "        list(range(start_id + i * batch_size, start_id + (i + 1) * batch_size))\n",
    "        for i in range(num_batches)\n",
    "    ]\n",
    "    batches[-1] = list(range(start_id + (num_batches - 1) * batch_size, end_id + 1))\n",
    "    return batches, end_id+1"
   ]
  },
  {
   "cell_type": "code",
   "execution_count": null,
   "id": "61f2d4fb",
   "metadata": {},
   "outputs": [
    {
     "data": {
      "text/html": [
       "<pre style=\"white-space:pre;overflow-x:auto;line-height:normal;font-family:Menlo,'DejaVu Sans Mono',consolas,'Courier New',monospace\">Saved to .<span style=\"color: #800080; text-decoration-color: #800080\">/programmin/</span><span style=\"color: #ff00ff; text-decoration-color: #ff00ff\">programmingin_29.csv</span>\n",
       "</pre>\n"
      ],
      "text/plain": [
       "Saved to .\u001b[35m/programmin/\u001b[0m\u001b[95mprogrammingin_29.csv\u001b[0m\n"
      ]
     },
     "metadata": {},
     "output_type": "display_data"
    },
    {
     "data": {
      "text/html": [
       "<pre style=\"white-space:pre;overflow-x:auto;line-height:normal;font-family:Menlo,'DejaVu Sans Mono',consolas,'Courier New',monospace\">Sleep for <span style=\"color: #008080; text-decoration-color: #008080; font-weight: bold\">3</span> minutes\n",
       "</pre>\n"
      ],
      "text/plain": [
       "Sleep for \u001b[1;36m3\u001b[0m minutes\n"
      ]
     },
     "metadata": {},
     "output_type": "display_data"
    }
   ],
   "source": [
    "from rich import print\n",
    "from IPython.display import clear_output\n",
    "\n",
    "# start_batches = [[130000,133000],[133001,136000],[165000,167000],[167001,169000],[170000,173000],[173001,175000],[175001,177500],[208000,210000]]\n",
    "# start_batches = [[210001,213000],[213001,216000],[216001,219001],[50000,53000],[295000,298000],[53001,56001],[300000,330000],[220001,223000],[223001,226001]]\n",
    "# [1000,5000],[5001,8000],[8001,10000],[10001,12000],[335000,339000],\n",
    "start_batches = [[339001,341000],[344000,344951],[100000,103000],[103001,106000],[177501,177950],[266000,269000],[275000,769000]]\n",
    "cnt = 23\n",
    "print(\"test\")\n",
    "batch_size = 2000\n",
    "for nbatch in start_batches[0:]:\n",
    "    clear_output(True)\n",
    "    print(f\"Start new batches : {nbatch[0]} to {nbatch[1]}\")\n",
    "    batches, cur_id = get_batches(nbatch[0],nbatch[1])\n",
    "    tasks = [read_submission(batch) for batch in batches]\n",
    "    results = await asyncio.gather(*tasks)\n",
    "    final_df = pd.concat(results, ignore_index=True)\n",
    "    final_df.to_csv(f'./Raw/Programming/programmingin_{cnt}.csv',index=False)\n",
    "    clear_output(True)\n",
    "    print(f\"Saved to ./Raw/Programming/programmingin_{cnt}.csv\")\n",
    "    time.sleep(120)\n",
    "    cnt += 1\n",
    "    if cnt % 2 == 0:\n",
    "        print(\"Sleep for 3 minutes\")\n",
    "        time.sleep(180)"
   ]
  }
 ],
 "metadata": {
  "kernelspec": {
   "display_name": "Python 3",
   "language": "python",
   "name": "python3"
  },
  "language_info": {
   "codemirror_mode": {
    "name": "ipython",
    "version": 3
   },
   "file_extension": ".py",
   "mimetype": "text/x-python",
   "name": "python",
   "nbconvert_exporter": "python",
   "pygments_lexer": "ipython3",
   "version": "3.12.8"
  }
 },
 "nbformat": 4,
 "nbformat_minor": 5
}
