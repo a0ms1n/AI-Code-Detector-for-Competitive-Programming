{
 "cells": [
  {
   "cell_type": "code",
   "execution_count": 1,
   "id": "2da41572",
   "metadata": {},
   "outputs": [],
   "source": [
    "import json\n",
    "import os\n",
    "import pandas as pd\n",
    "import numpy as np\n",
    "import matplotlib.pyplot as plt"
   ]
  },
  {
   "cell_type": "code",
   "execution_count": 3,
   "id": "52405e54",
   "metadata": {},
   "outputs": [],
   "source": [
    "test_df = pd.read_csv('./../Splits/combined/test.csv')"
   ]
  },
  {
   "cell_type": "code",
   "execution_count": 4,
   "id": "c79ca1e8",
   "metadata": {},
   "outputs": [
    {
     "data": {
      "text/plain": [
       "writer\n",
       "Human    6813\n",
       "AI       6812\n",
       "Name: count, dtype: int64"
      ]
     },
     "execution_count": 4,
     "metadata": {},
     "output_type": "execute_result"
    }
   ],
   "source": [
    "test_df['writer'].value_counts()"
   ]
  },
  {
   "cell_type": "code",
   "execution_count": 5,
   "id": "2df2bbed",
   "metadata": {},
   "outputs": [],
   "source": [
    "ai_df = test_df[test_df['writer'] == 'AI'].sample(n=1200, random_state=42)\n",
    "human_df = test_df[test_df['writer'] == 'Human'].sample(n=1200, random_state=42)\n",
    "sub_test_df = pd.concat([ai_df, human_df])\n",
    "sub_test_df = sub_test_df.sample(frac=1, random_state=42).reset_index(drop=True)"
   ]
  },
  {
   "cell_type": "code",
   "execution_count": 7,
   "id": "99be7512",
   "metadata": {},
   "outputs": [],
   "source": [
    "sub_test_df.to_csv('../Splits/combined/sub_test.csv')"
   ]
  }
 ],
 "metadata": {
  "kernelspec": {
   "display_name": "Python 3",
   "language": "python",
   "name": "python3"
  },
  "language_info": {
   "codemirror_mode": {
    "name": "ipython",
    "version": 3
   },
   "file_extension": ".py",
   "mimetype": "text/x-python",
   "name": "python",
   "nbconvert_exporter": "python",
   "pygments_lexer": "ipython3",
   "version": "3.12.8"
  }
 },
 "nbformat": 4,
 "nbformat_minor": 5
}
